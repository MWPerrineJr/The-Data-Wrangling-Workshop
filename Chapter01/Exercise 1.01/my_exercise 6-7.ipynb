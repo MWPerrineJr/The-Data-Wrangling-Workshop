{
 "cells": [
  {
   "cell_type": "code",
   "execution_count": null,
   "metadata": {},
   "outputs": [],
   "source": [
    "# Create a dictionary of data\n",
    "stocks = {\"Solar Capital Ltd.\": \"$920.44M\",\\\n",
    "        \"Zoe's Kitchen, Inc.\": \"$262.32M\",\\\n",
    "        \"Toyota Motor Corp. ord\": \"$156.02B\",\\\n",
    "        \"Nuveen Virginia Quiality Muni Inc Fund\": \"$238.38M\",\\\n",
    "        \"Kinross Gold Corp.\": \"5.1B\",\\\n",
    "        \"Vulcan Materials Company\": \"$17.1B\",\\\n",
    "        \"Hi-Crush Partners LP\": \"$955.69M\",\\\n",
    "        \"Lennox International, Inc\": \"$8.05B\",\\\n",
    "        \"WMIH Corp.\":\"247.66M\",\\\n",
    "        \"Comerica Incorporated\":\"n/a\"}"
   ]
  },
  {
   "cell_type": "code",
   "execution_count": null,
   "metadata": {},
   "outputs": [
    {
     "data": {
      "text/plain": [
       "'247.66M'"
      ]
     },
     "execution_count": 2,
     "metadata": {},
     "output_type": "execute_result"
    }
   ],
   "source": [
    "# Find vaue of a key\n",
    "stocks[\"WMIH Corp.\"]"
   ]
  },
  {
   "cell_type": "code",
   "execution_count": null,
   "metadata": {},
   "outputs": [],
   "source": [
    "# Change the value of a key\n",
    "stocks['WMIH Corp.'] = \"$300M\""
   ]
  },
  {
   "cell_type": "code",
   "execution_count": null,
   "metadata": {},
   "outputs": [
    {
     "data": {
      "text/plain": [
       "'$300M'"
      ]
     },
     "execution_count": 4,
     "metadata": {},
     "output_type": "execute_result"
    }
   ],
   "source": [
    "# View new value for key\n",
    "stocks[\"WMIH Corp.\"]"
   ]
  },
  {
   "cell_type": "code",
   "execution_count": null,
   "metadata": {},
   "outputs": [],
   "source": [
    "# Create an empty dictionary\n",
    "dict_3 = {}"
   ]
  },
  {
   "cell_type": "code",
   "execution_count": null,
   "metadata": {},
   "outputs": [
    {
     "data": {
      "text/plain": [
       "{'key1': 'Value1'}"
      ]
     },
     "execution_count": 6,
     "metadata": {},
     "output_type": "execute_result"
    }
   ],
   "source": [
    "# add a key and value to an empty dictionary\n",
    "dict_3[\"key1\"] = \"Value1\"\n",
    "dict_3"
   ]
  },
  {
   "cell_type": "markdown",
   "metadata": {},
   "source": [
    "Exercise 1.7"
   ]
  },
  {
   "cell_type": "code",
   "execution_count": 7,
   "metadata": {},
   "outputs": [
    {
     "data": {
      "text/plain": [
       "{'Solar Capital Ltd.': '920.44M',\n",
       " \"Zoe's Kitchen, Inc.\": '262.32M',\n",
       " 'Toyota Motor Corp. ord': '156.02B',\n",
       " 'Nuveen Virginia Quiality Muni Inc Fund': '238.38M',\n",
       " 'Kinross Gold Corp.': '5.1B',\n",
       " 'Vulcan Materials Company': '17.1B',\n",
       " 'Hi-Crush Partners LP': '955.69M',\n",
       " 'Lennox International, Inc': '8.05B',\n",
       " 'WMIH Corp.': '300M',\n",
       " 'Comerica Incorporated': 'n/a'}"
      ]
     },
     "execution_count": 7,
     "metadata": {},
     "output_type": "execute_result"
    }
   ],
   "source": [
    "for key,val in stocks.items():\n",
    "    stocks[key] = val.replace('$', '')\n",
    "stocks\n"
   ]
  },
  {
   "cell_type": "code",
   "execution_count": 8,
   "metadata": {},
   "outputs": [
    {
     "data": {
      "text/plain": [
       "{'Solar Capital Ltd.': ['920.44', 'M'],\n",
       " \"Zoe's Kitchen, Inc.\": ['262.32', 'M'],\n",
       " 'Toyota Motor Corp. ord': ['156.02', 'B'],\n",
       " 'Nuveen Virginia Quiality Muni Inc Fund': ['238.38', 'M'],\n",
       " 'Kinross Gold Corp.': ['5.1', 'B'],\n",
       " 'Vulcan Materials Company': ['17.1', 'B'],\n",
       " 'Hi-Crush Partners LP': ['955.69', 'M'],\n",
       " 'Lennox International, Inc': ['8.05', 'B'],\n",
       " 'WMIH Corp.': ['300', 'M'],\n",
       " 'Comerica Incorporated': ['n/', 'a']}"
      ]
     },
     "execution_count": 8,
     "metadata": {},
     "output_type": "execute_result"
    }
   ],
   "source": [
    "for key, val in stocks.items():\n",
    "    mult = val[-1]\n",
    "    stocks[key] = [val[:-1], mult]\n",
    "stocks"
   ]
  }
 ],
 "metadata": {
  "kernelspec": {
   "display_name": "data_prep",
   "language": "python",
   "name": "python3"
  },
  "language_info": {
   "codemirror_mode": {
    "name": "ipython",
    "version": 3
   },
   "file_extension": ".py",
   "mimetype": "text/x-python",
   "name": "python",
   "nbconvert_exporter": "python",
   "pygments_lexer": "ipython3",
   "version": "3.13.2"
  }
 },
 "nbformat": 4,
 "nbformat_minor": 2
}
