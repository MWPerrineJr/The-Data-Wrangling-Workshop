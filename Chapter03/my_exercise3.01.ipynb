{
 "cells": [
  {
   "cell_type": "markdown",
   "metadata": {},
   "source": [
    "Chapter 3\n"
   ]
  },
  {
   "cell_type": "markdown",
   "metadata": {},
   "source": [
    "1. Chapter3.01 Creating a Numpy Array [From a List]"
   ]
  },
  {
   "cell_type": "code",
   "execution_count": 2,
   "metadata": {},
   "outputs": [],
   "source": [
    "import numpy as np"
   ]
  },
  {
   "cell_type": "code",
   "execution_count": 3,
   "metadata": {},
   "outputs": [
    {
     "data": {
      "text/plain": [
       "[1, 2, 3]"
      ]
     },
     "execution_count": 3,
     "metadata": {},
     "output_type": "execute_result"
    }
   ],
   "source": [
    "list_1 = [1,2,3]\n",
    "list_1"
   ]
  },
  {
   "cell_type": "code",
   "execution_count": 4,
   "metadata": {},
   "outputs": [
    {
     "data": {
      "text/plain": [
       "array([1, 2, 3])"
      ]
     },
     "execution_count": 4,
     "metadata": {},
     "output_type": "execute_result"
    }
   ],
   "source": [
    "array_1 = np.array(list_1)\n",
    "array_1"
   ]
  },
  {
   "cell_type": "code",
   "execution_count": 5,
   "metadata": {},
   "outputs": [
    {
     "data": {
      "text/plain": [
       "array([1.2, 3.4, 5.6])"
      ]
     },
     "execution_count": 5,
     "metadata": {},
     "output_type": "execute_result"
    }
   ],
   "source": [
    "a = np.array([1.2, 3.4, 5.6])\n",
    "a"
   ]
  },
  {
   "cell_type": "code",
   "execution_count": 6,
   "metadata": {},
   "outputs": [
    {
     "data": {
      "text/plain": [
       "numpy.ndarray"
      ]
     },
     "execution_count": 6,
     "metadata": {},
     "output_type": "execute_result"
    }
   ],
   "source": [
    "type(a)"
   ]
  },
  {
   "cell_type": "code",
   "execution_count": 7,
   "metadata": {},
   "outputs": [
    {
     "data": {
      "text/plain": [
       "numpy.ndarray"
      ]
     },
     "execution_count": 7,
     "metadata": {},
     "output_type": "execute_result"
    }
   ],
   "source": [
    "type(array_1)"
   ]
  },
  {
   "cell_type": "code",
   "execution_count": 8,
   "metadata": {},
   "outputs": [
    {
     "data": {
      "text/plain": [
       "list"
      ]
     },
     "execution_count": 8,
     "metadata": {},
     "output_type": "execute_result"
    }
   ],
   "source": [
    "type(list_1)"
   ]
  },
  {
   "cell_type": "code",
   "execution_count": 9,
   "metadata": {},
   "outputs": [
    {
     "data": {
      "text/plain": [
       "array([('MMM', 100), ('AOS', 101), ('ABT', 102), ('ABBV', 103),\n",
       "       ('ACN', 104), ('ATVI', 105), ('AYI', 106), ('ADBE', 107),\n",
       "       ('AAP', 108), ('AMD', 109), ('AES', 110), ('AET', 111),\n",
       "       ('AMG', 112), ('AFL', 113), ('A', 114), ('APD', 115),\n",
       "       ('AKAM', 116), ('ALK', 117), ('ALB', 118), ('ARE', 119),\n",
       "       ('ALXN', 120), ('ALGN', 121), ('ALLE', 122), ('AGN', 123),\n",
       "       ('ADS', 124), ('LNT', 125), ('ALL', 126), ('GOOGL', 127),\n",
       "       ('GOOG', 128), ('MO', 129), ('AMZN', 130), ('AEE', 131),\n",
       "       ('AAL', 132), ('AEP', 133), ('AXP', 134), ('AIG', 135),\n",
       "       ('AMT', 136), ('AWK', 137), ('AMP', 138), ('ABC', 139),\n",
       "       ('AME', 140), ('AMGN', 141), ('APH', 142), ('APC', 143),\n",
       "       ('ADI', 144), ('ANDV', 145), ('ANSS', 146), ('ANTM', 147),\n",
       "       ('AON', 148)], dtype=[('Symbol', '<U5'), ('Price', '<i8')])"
      ]
     },
     "execution_count": 9,
     "metadata": {},
     "output_type": "execute_result"
    }
   ],
   "source": [
    "data = np.genfromtxt(r\"C:\\Users\\mchlp\\OneDrive\\Documents\\Data Preperation\\The-Data-Wrangling-Workshop\\Chapter03\\datasets\\stock.csv\",\\\n",
    "    delimiter=\",\", names= True, dtype= None,\\\n",
    "        encoding= \"ascii\")\n",
    "data"
   ]
  },
  {
   "cell_type": "code",
   "execution_count": 10,
   "metadata": {},
   "outputs": [
    {
     "data": {
      "text/plain": [
       "numpy.ndarray"
      ]
     },
     "execution_count": 10,
     "metadata": {},
     "output_type": "execute_result"
    }
   ],
   "source": [
    "type(data)"
   ]
  },
  {
   "cell_type": "markdown",
   "metadata": {},
   "source": [
    "2. Exercise 3.02 Adding Two Numpy Arrays"
   ]
  },
  {
   "cell_type": "code",
   "execution_count": 11,
   "metadata": {},
   "outputs": [
    {
     "data": {
      "text/plain": [
       "[1, 2, 3, 1, 2, 3]"
      ]
     },
     "execution_count": 11,
     "metadata": {},
     "output_type": "execute_result"
    }
   ],
   "source": [
    "list_2 = list_1 + list_1\n",
    "list_2"
   ]
  },
  {
   "cell_type": "code",
   "execution_count": 12,
   "metadata": {},
   "outputs": [
    {
     "data": {
      "text/plain": [
       "array([2, 4, 6])"
      ]
     },
     "execution_count": 12,
     "metadata": {},
     "output_type": "execute_result"
    }
   ],
   "source": [
    "array_2 = array_1 + array_1\n",
    "array_2"
   ]
  },
  {
   "cell_type": "markdown",
   "metadata": {},
   "source": [
    "3. Chapter 3.03 Mathematical Operations on Numpy Arrays"
   ]
  },
  {
   "cell_type": "code",
   "execution_count": 13,
   "metadata": {},
   "outputs": [
    {
     "name": "stdout",
     "output_type": "stream",
     "text": [
      "array_1 raised to the power of array_1: [ 1  4 27]\n"
     ]
    }
   ],
   "source": [
    "print(\"array_1 raised to the power of array_1:\",\\\n",
    "    array_1**array_1)"
   ]
  },
  {
   "cell_type": "markdown",
   "metadata": {},
   "source": [
    "4. Chapter 3.04 Advanced Mathematical Operations on Numpy Arrays"
   ]
  },
  {
   "cell_type": "code",
   "execution_count": 14,
   "metadata": {},
   "outputs": [],
   "source": [
    "import pandas as pd"
   ]
  },
  {
   "cell_type": "code",
   "execution_count": 15,
   "metadata": {},
   "outputs": [],
   "source": [
    "df = pd.read_csv(r\"C:\\Users\\mchlp\\OneDrive\\Documents\\Data Preperation\\The-Data-Wrangling-Workshop\\Chapter03\\datasets\\numbers.csv\")"
   ]
  },
  {
   "cell_type": "code",
   "execution_count": 16,
   "metadata": {},
   "outputs": [
    {
     "data": {
      "text/html": [
       "<div>\n",
       "<style scoped>\n",
       "    .dataframe tbody tr th:only-of-type {\n",
       "        vertical-align: middle;\n",
       "    }\n",
       "\n",
       "    .dataframe tbody tr th {\n",
       "        vertical-align: top;\n",
       "    }\n",
       "\n",
       "    .dataframe thead th {\n",
       "        text-align: right;\n",
       "    }\n",
       "</style>\n",
       "<table border=\"1\" class=\"dataframe\">\n",
       "  <thead>\n",
       "    <tr style=\"text-align: right;\">\n",
       "      <th></th>\n",
       "      <th>100</th>\n",
       "    </tr>\n",
       "  </thead>\n",
       "  <tbody>\n",
       "    <tr>\n",
       "      <th>0</th>\n",
       "      <td>101</td>\n",
       "    </tr>\n",
       "    <tr>\n",
       "      <th>1</th>\n",
       "      <td>102</td>\n",
       "    </tr>\n",
       "    <tr>\n",
       "      <th>2</th>\n",
       "      <td>103</td>\n",
       "    </tr>\n",
       "    <tr>\n",
       "      <th>3</th>\n",
       "      <td>104</td>\n",
       "    </tr>\n",
       "    <tr>\n",
       "      <th>4</th>\n",
       "      <td>105</td>\n",
       "    </tr>\n",
       "  </tbody>\n",
       "</table>\n",
       "</div>"
      ],
      "text/plain": [
       "   100\n",
       "0  101\n",
       "1  102\n",
       "2  103\n",
       "3  104\n",
       "4  105"
      ]
     },
     "execution_count": 16,
     "metadata": {},
     "output_type": "execute_result"
    }
   ],
   "source": [
    "df.head(5)"
   ]
  },
  {
   "cell_type": "code",
   "execution_count": 17,
   "metadata": {},
   "outputs": [
    {
     "data": {
      "text/plain": [
       "[[101],\n",
       " [102],\n",
       " [103],\n",
       " [104],\n",
       " [105],\n",
       " [106],\n",
       " [107],\n",
       " [108],\n",
       " [109],\n",
       " [110],\n",
       " [111],\n",
       " [112],\n",
       " [113],\n",
       " [114],\n",
       " [115],\n",
       " [116],\n",
       " [117],\n",
       " [118],\n",
       " [119],\n",
       " [120],\n",
       " [121],\n",
       " [122],\n",
       " [123],\n",
       " [124],\n",
       " [125],\n",
       " [126],\n",
       " [127],\n",
       " [128],\n",
       " [129],\n",
       " [130],\n",
       " [131],\n",
       " [132],\n",
       " [133],\n",
       " [134],\n",
       " [135],\n",
       " [136],\n",
       " [137],\n",
       " [138],\n",
       " [139],\n",
       " [140],\n",
       " [141],\n",
       " [142],\n",
       " [143],\n",
       " [144],\n",
       " [145],\n",
       " [146],\n",
       " [147],\n",
       " [148]]"
      ]
     },
     "execution_count": 17,
     "metadata": {},
     "output_type": "execute_result"
    }
   ],
   "source": [
    "list_5 = df.values.tolist()\n",
    "list_5"
   ]
  },
  {
   "cell_type": "code",
   "execution_count": 18,
   "metadata": {},
   "outputs": [
    {
     "data": {
      "text/plain": [
       "array([[101],\n",
       "       [102],\n",
       "       [103],\n",
       "       [104],\n",
       "       [105],\n",
       "       [106],\n",
       "       [107],\n",
       "       [108],\n",
       "       [109],\n",
       "       [110],\n",
       "       [111],\n",
       "       [112],\n",
       "       [113],\n",
       "       [114],\n",
       "       [115],\n",
       "       [116],\n",
       "       [117],\n",
       "       [118],\n",
       "       [119],\n",
       "       [120],\n",
       "       [121],\n",
       "       [122],\n",
       "       [123],\n",
       "       [124],\n",
       "       [125],\n",
       "       [126],\n",
       "       [127],\n",
       "       [128],\n",
       "       [129],\n",
       "       [130],\n",
       "       [131],\n",
       "       [132],\n",
       "       [133],\n",
       "       [134],\n",
       "       [135],\n",
       "       [136],\n",
       "       [137],\n",
       "       [138],\n",
       "       [139],\n",
       "       [140],\n",
       "       [141],\n",
       "       [142],\n",
       "       [143],\n",
       "       [144],\n",
       "       [145],\n",
       "       [146],\n",
       "       [147],\n",
       "       [148]])"
      ]
     },
     "execution_count": 18,
     "metadata": {},
     "output_type": "execute_result"
    }
   ],
   "source": [
    "array_5 = np.array(list_5)\n",
    "array_5"
   ]
  },
  {
   "cell_type": "code",
   "execution_count": 19,
   "metadata": {},
   "outputs": [
    {
     "data": {
      "text/plain": [
       "array([[ 0.45202579],\n",
       "       [ 0.99482679],\n",
       "       [ 0.62298863],\n",
       "       [-0.3216224 ],\n",
       "       [-0.97053528],\n",
       "       [-0.7271425 ],\n",
       "       [ 0.18478174],\n",
       "       [ 0.92681851],\n",
       "       [ 0.81674261],\n",
       "       [-0.04424268],\n",
       "       [-0.86455145],\n",
       "       [-0.8899956 ],\n",
       "       [-0.09718191],\n",
       "       [ 0.78498039],\n",
       "       [ 0.94543533],\n",
       "       [ 0.23666139],\n",
       "       [-0.68969794],\n",
       "       [-0.98195217],\n",
       "       [-0.3714041 ],\n",
       "       [ 0.58061118],\n",
       "       [ 0.99881522],\n",
       "       [ 0.49871315],\n",
       "       [-0.45990349],\n",
       "       [-0.99568699],\n",
       "       [-0.61604046],\n",
       "       [ 0.32999083],\n",
       "       [ 0.97263007],\n",
       "       [ 0.72103771],\n",
       "       [-0.19347339],\n",
       "       [-0.93010595],\n",
       "       [-0.81160339],\n",
       "       [ 0.05308359],\n",
       "       [ 0.86896576],\n",
       "       [ 0.88592482],\n",
       "       [ 0.08836869],\n",
       "       [-0.79043321],\n",
       "       [-0.94251445],\n",
       "       [-0.22805226],\n",
       "       [ 0.69608013],\n",
       "       [ 0.98023966],\n",
       "       [ 0.36317137],\n",
       "       [-0.58779501],\n",
       "       [-0.99834536],\n",
       "       [-0.49102159],\n",
       "       [ 0.46774516],\n",
       "       [ 0.99646917],\n",
       "       [ 0.60904402],\n",
       "       [-0.33833339]])"
      ]
     },
     "execution_count": 19,
     "metadata": {},
     "output_type": "execute_result"
    }
   ],
   "source": [
    "# sine function\n",
    "np.sin(array_5)"
   ]
  },
  {
   "cell_type": "code",
   "execution_count": 20,
   "metadata": {},
   "outputs": [
    {
     "data": {
      "text/plain": [
       "array([[4.61512052],\n",
       "       [4.62497281],\n",
       "       [4.63472899],\n",
       "       [4.6443909 ],\n",
       "       [4.65396035],\n",
       "       [4.66343909],\n",
       "       [4.67282883],\n",
       "       [4.68213123],\n",
       "       [4.69134788],\n",
       "       [4.70048037],\n",
       "       [4.7095302 ],\n",
       "       [4.71849887],\n",
       "       [4.72738782],\n",
       "       [4.73619845],\n",
       "       [4.74493213],\n",
       "       [4.75359019],\n",
       "       [4.76217393],\n",
       "       [4.77068462],\n",
       "       [4.77912349],\n",
       "       [4.78749174],\n",
       "       [4.79579055],\n",
       "       [4.80402104],\n",
       "       [4.81218436],\n",
       "       [4.82028157],\n",
       "       [4.82831374],\n",
       "       [4.83628191],\n",
       "       [4.84418709],\n",
       "       [4.85203026],\n",
       "       [4.8598124 ],\n",
       "       [4.86753445],\n",
       "       [4.87519732],\n",
       "       [4.88280192],\n",
       "       [4.89034913],\n",
       "       [4.8978398 ],\n",
       "       [4.90527478],\n",
       "       [4.91265489],\n",
       "       [4.91998093],\n",
       "       [4.92725369],\n",
       "       [4.93447393],\n",
       "       [4.94164242],\n",
       "       [4.94875989],\n",
       "       [4.95582706],\n",
       "       [4.96284463],\n",
       "       [4.9698133 ],\n",
       "       [4.97673374],\n",
       "       [4.98360662],\n",
       "       [4.99043259],\n",
       "       [4.99721227]])"
      ]
     },
     "execution_count": 20,
     "metadata": {},
     "output_type": "execute_result"
    }
   ],
   "source": [
    "# logarithm\n",
    "np.log(array_5)"
   ]
  },
  {
   "cell_type": "code",
   "execution_count": 21,
   "metadata": {},
   "outputs": [
    {
     "data": {
      "text/plain": [
       "array([[7.30705998e+43],\n",
       "       [1.98626484e+44],\n",
       "       [5.39922761e+44],\n",
       "       [1.46766223e+45],\n",
       "       [3.98951957e+45],\n",
       "       [1.08446386e+46],\n",
       "       [2.94787839e+46],\n",
       "       [8.01316426e+46],\n",
       "       [2.17820388e+47],\n",
       "       [5.92097203e+47],\n",
       "       [1.60948707e+48],\n",
       "       [4.37503945e+48],\n",
       "       [1.18925902e+49],\n",
       "       [3.23274119e+49],\n",
       "       [8.78750164e+49],\n",
       "       [2.38869060e+50],\n",
       "       [6.49313426e+50],\n",
       "       [1.76501689e+51],\n",
       "       [4.79781333e+51],\n",
       "       [1.30418088e+52],\n",
       "       [3.54513118e+52],\n",
       "       [9.63666567e+52],\n",
       "       [2.61951732e+53],\n",
       "       [7.12058633e+53],\n",
       "       [1.93557604e+54],\n",
       "       [5.26144118e+54],\n",
       "       [1.43020800e+55],\n",
       "       [3.88770841e+55],\n",
       "       [1.05678871e+56],\n",
       "       [2.87264955e+56],\n",
       "       [7.80867107e+56],\n",
       "       [2.12261687e+57],\n",
       "       [5.76987086e+57],\n",
       "       [1.56841351e+58],\n",
       "       [4.26338995e+58],\n",
       "       [1.15890954e+59],\n",
       "       [3.15024275e+59],\n",
       "       [8.56324762e+59],\n",
       "       [2.32773204e+60],\n",
       "       [6.32743171e+60],\n",
       "       [1.71997426e+61],\n",
       "       [4.67537478e+61],\n",
       "       [1.27089863e+62],\n",
       "       [3.45466066e+62],\n",
       "       [9.39074129e+62],\n",
       "       [2.55266814e+63],\n",
       "       [6.93887142e+63],\n",
       "       [1.88618081e+64]])"
      ]
     },
     "execution_count": 21,
     "metadata": {},
     "output_type": "execute_result"
    }
   ],
   "source": [
    "# Exponential\n",
    "np.exp(array_5)"
   ]
  },
  {
   "cell_type": "markdown",
   "metadata": {},
   "source": [
    "5. Chapter 3.05 Genrating Arrays Using Arange and Linspace Methods"
   ]
  },
  {
   "cell_type": "code",
   "execution_count": 22,
   "metadata": {},
   "outputs": [
    {
     "data": {
      "text/plain": [
       "array([ 5,  6,  7,  8,  9, 10, 11, 12, 13, 14, 15])"
      ]
     },
     "execution_count": 22,
     "metadata": {},
     "output_type": "execute_result"
    }
   ],
   "source": [
    "np.arange(5,16)"
   ]
  },
  {
   "cell_type": "code",
   "execution_count": 23,
   "metadata": {},
   "outputs": [
    {
     "name": "stdout",
     "output_type": "stream",
     "text": [
      "Numbers spaced apart by 2:\n",
      " [ 0  2  4  6  8 10]\n",
      "Numbers spaced apart by a floating point number:\n",
      " [ 0.   2.5  5.   7.5 10. ]\n",
      "Every 5th number from 30 in reverse order:\n",
      " [30 25 20 15 10  5  0]\n"
     ]
    }
   ],
   "source": [
    "print(\"Numbers spaced apart by 2:\\n\", np.arange(0,11,2))\n",
    "print(\"Numbers spaced apart by a floating point number:\\n\",\\\n",
    "    np.arange(0,11,2.5))\n",
    "print(\"Every 5th number from 30 in reverse order:\\n\",\\\n",
    "    np.arange(30,-1,-5))"
   ]
  },
  {
   "cell_type": "code",
   "execution_count": 24,
   "metadata": {},
   "outputs": [
    {
     "name": "stdout",
     "output_type": "stream",
     "text": [
      "11 linearly spaced numbers between 1 and 5:\n",
      "  [1.  1.4 1.8 2.2 2.6 3.  3.4 3.8 4.2 4.6 5. ]\n"
     ]
    }
   ],
   "source": [
    "print(\"11 linearly spaced numbers between 1 and 5:\\n \", \\\n",
    "    np.linspace(1,5,11))"
   ]
  },
  {
   "cell_type": "markdown",
   "metadata": {},
   "source": [
    "6. Chapter 3.06 Creating Multi-Dimensional Arrays"
   ]
  },
  {
   "cell_type": "code",
   "execution_count": 25,
   "metadata": {},
   "outputs": [],
   "source": [
    "df_1= pd.read_csv(r\"C:\\Users\\mchlp\\OneDrive\\Documents\\Data Preperation\\The-Data-Wrangling-Workshop\\Chapter03\\datasets\\numbers2.csv\", header=None)"
   ]
  },
  {
   "cell_type": "code",
   "execution_count": 26,
   "metadata": {},
   "outputs": [
    {
     "data": {
      "text/html": [
       "<div>\n",
       "<style scoped>\n",
       "    .dataframe tbody tr th:only-of-type {\n",
       "        vertical-align: middle;\n",
       "    }\n",
       "\n",
       "    .dataframe tbody tr th {\n",
       "        vertical-align: top;\n",
       "    }\n",
       "\n",
       "    .dataframe thead th {\n",
       "        text-align: right;\n",
       "    }\n",
       "</style>\n",
       "<table border=\"1\" class=\"dataframe\">\n",
       "  <thead>\n",
       "    <tr style=\"text-align: right;\">\n",
       "      <th></th>\n",
       "      <th>0</th>\n",
       "      <th>1</th>\n",
       "      <th>2</th>\n",
       "    </tr>\n",
       "  </thead>\n",
       "  <tbody>\n",
       "    <tr>\n",
       "      <th>0</th>\n",
       "      <td>1</td>\n",
       "      <td>2</td>\n",
       "      <td>3</td>\n",
       "    </tr>\n",
       "    <tr>\n",
       "      <th>1</th>\n",
       "      <td>4</td>\n",
       "      <td>5</td>\n",
       "      <td>6</td>\n",
       "    </tr>\n",
       "    <tr>\n",
       "      <th>2</th>\n",
       "      <td>7</td>\n",
       "      <td>8</td>\n",
       "      <td>9</td>\n",
       "    </tr>\n",
       "  </tbody>\n",
       "</table>\n",
       "</div>"
      ],
      "text/plain": [
       "   0  1  2\n",
       "0  1  2  3\n",
       "1  4  5  6\n",
       "2  7  8  9"
      ]
     },
     "execution_count": 26,
     "metadata": {},
     "output_type": "execute_result"
    }
   ],
   "source": [
    "df_1"
   ]
  },
  {
   "cell_type": "code",
   "execution_count": 27,
   "metadata": {},
   "outputs": [
    {
     "data": {
      "text/plain": [
       "array([[1, 2, 3],\n",
       "       [4, 5, 6],\n",
       "       [7, 8, 9]])"
      ]
     },
     "execution_count": 27,
     "metadata": {},
     "output_type": "execute_result"
    }
   ],
   "source": [
    "list_2D = df_1.values\n",
    "list_2D"
   ]
  },
  {
   "cell_type": "code",
   "execution_count": 28,
   "metadata": {},
   "outputs": [
    {
     "data": {
      "text/plain": [
       "array([[1, 2, 3],\n",
       "       [4, 5, 6],\n",
       "       [7, 8, 9]])"
      ]
     },
     "execution_count": 28,
     "metadata": {},
     "output_type": "execute_result"
    }
   ],
   "source": [
    "mat1 = np.array(list_2D)\n",
    "mat1"
   ]
  },
  {
   "cell_type": "code",
   "execution_count": 29,
   "metadata": {},
   "outputs": [
    {
     "name": "stdout",
     "output_type": "stream",
     "text": [
      "Here is the matrix----------\n",
      " [[1 2 3]\n",
      " [4 5 6]\n",
      " [7 8 9]] \n",
      "----------\n"
     ]
    }
   ],
   "source": [
    "print(\"Here is the matrix----------\\n\",\n",
    "    mat1,\"\\n----------\")"
   ]
  },
  {
   "cell_type": "code",
   "execution_count": 30,
   "metadata": {},
   "outputs": [
    {
     "name": "stdout",
     "output_type": "stream",
     "text": [
      "[[1.5 2.  3. ]\n",
      " [4.  5.  6. ]]\n"
     ]
    }
   ],
   "source": [
    "tuple_2D = np.array([(1.5, 2, 3), (4,5,6)])\n",
    "mat_tuple = np.array(tuple_2D)\n",
    "print(mat_tuple)"
   ]
  },
  {
   "cell_type": "markdown",
   "metadata": {},
   "source": [
    "7. Chapter 3.07 The dimension, Shape, Size, and Data Type of Two-Dimensional Arrays"
   ]
  },
  {
   "cell_type": "code",
   "execution_count": 31,
   "metadata": {},
   "outputs": [
    {
     "name": "stdout",
     "output_type": "stream",
     "text": [
      "Dimension of this matrix: 2\n"
     ]
    }
   ],
   "source": [
    "print(\"Dimension of this matrix: \", mat1.ndim, sep='')"
   ]
  },
  {
   "cell_type": "code",
   "execution_count": 32,
   "metadata": {},
   "outputs": [
    {
     "name": "stdout",
     "output_type": "stream",
     "text": [
      "Size of the matrix: 9\n"
     ]
    }
   ],
   "source": [
    "print(\"Size of the matrix: \", mat1.size,sep=\"\")"
   ]
  },
  {
   "cell_type": "code",
   "execution_count": 33,
   "metadata": {},
   "outputs": [
    {
     "name": "stdout",
     "output_type": "stream",
     "text": [
      "Shape of the matrix: (3, 3)\n"
     ]
    }
   ],
   "source": [
    "print(\"Shape of the matrix: \", mat1.shape, sep=\"\")"
   ]
  },
  {
   "cell_type": "code",
   "execution_count": 34,
   "metadata": {},
   "outputs": [
    {
     "name": "stdout",
     "output_type": "stream",
     "text": [
      "Data type of this matrix: int64\n"
     ]
    }
   ],
   "source": [
    "print(\"Data type of this matrix: \" , mat1.dtype, sep=\"\")"
   ]
  },
  {
   "cell_type": "markdown",
   "metadata": {},
   "source": [
    "3. Chapter 3.08 Zeros, Ones, Random, Identity Matrices, and Vectors "
   ]
  },
  {
   "cell_type": "code",
   "execution_count": 35,
   "metadata": {},
   "outputs": [
    {
     "name": "stdout",
     "output_type": "stream",
     "text": [
      "Vector of Zeros:  [0. 0. 0. 0. 0.]\n"
     ]
    }
   ],
   "source": [
    "print(\"Vector of Zeros: \", np.zeros(5))"
   ]
  },
  {
   "cell_type": "code",
   "execution_count": 36,
   "metadata": {},
   "outputs": [
    {
     "name": "stdout",
     "output_type": "stream",
     "text": [
      "Matrix of zeros: \n",
      " [[0. 0. 0. 0.]\n",
      " [0. 0. 0. 0.]\n",
      " [0. 0. 0. 0.]]\n"
     ]
    }
   ],
   "source": [
    "print(\"Matrix of zeros: \\n\", np.zeros((3,4)))"
   ]
  },
  {
   "cell_type": "code",
   "execution_count": 37,
   "metadata": {},
   "outputs": [
    {
     "name": "stdout",
     "output_type": "stream",
     "text": [
      "Matrix of 5's: \n",
      " [[5. 5. 5.]\n",
      " [5. 5. 5.]\n",
      " [5. 5. 5.]]\n"
     ]
    }
   ],
   "source": [
    "print(\"Matrix of 5's: \\n\", 5* np.ones((3,3)))"
   ]
  },
  {
   "cell_type": "code",
   "execution_count": 38,
   "metadata": {},
   "outputs": [
    {
     "name": "stdout",
     "output_type": "stream",
     "text": [
      "Identity matrix of dimension 2: \n",
      " [[1. 0.]\n",
      " [0. 1.]]\n"
     ]
    }
   ],
   "source": [
    "print(\"Identity matrix of dimension 2: \\n\", np.eye(2))"
   ]
  },
  {
   "cell_type": "code",
   "execution_count": 39,
   "metadata": {},
   "outputs": [
    {
     "name": "stdout",
     "output_type": "stream",
     "text": [
      "Identity matrix of dimension 4: \n",
      "  [[1. 0. 0. 0.]\n",
      " [0. 1. 0. 0.]\n",
      " [0. 0. 1. 0.]\n",
      " [0. 0. 0. 1.]]\n"
     ]
    }
   ],
   "source": [
    "print(\"Identity matrix of dimension 4: \\n \", np.eye(4))"
   ]
  },
  {
   "cell_type": "code",
   "execution_count": 40,
   "metadata": {},
   "outputs": [
    {
     "name": "stdout",
     "output_type": "stream",
     "text": [
      "Random matrix of shape (4,3): \n",
      "  [[7 7 6]\n",
      " [4 5 4]\n",
      " [4 7 2]\n",
      " [1 4 1]]\n"
     ]
    }
   ],
   "source": [
    "print(\"Random matrix of shape (4,3): \\n \",\\\n",
    "    np.random.randint(low = 1, high = 10, size = (4,3)))"
   ]
  },
  {
   "cell_type": "markdown",
   "metadata": {},
   "source": [
    "9. Chapter 3.09 Reshaping, Ravel, Min, Max, and Sorting"
   ]
  },
  {
   "cell_type": "code",
   "execution_count": 41,
   "metadata": {},
   "outputs": [
    {
     "data": {
      "text/plain": [
       "array([47,  3, 60, 32, 59, 89, 93, 68,  6, 15, 55, 49, 41, 68, 14, 96, 96,\n",
       "       62, 44, 78, 79, 13, 82, 14, 21, 47, 28, 91, 56,  2], dtype=int32)"
      ]
     },
     "execution_count": 41,
     "metadata": {},
     "output_type": "execute_result"
    }
   ],
   "source": [
    "a = np.random.randint(1,100,30)\n",
    "a"
   ]
  },
  {
   "cell_type": "code",
   "execution_count": 42,
   "metadata": {},
   "outputs": [
    {
     "data": {
      "text/plain": [
       "array([[[47,  3, 60, 32, 59],\n",
       "        [89, 93, 68,  6, 15],\n",
       "        [55, 49, 41, 68, 14]],\n",
       "\n",
       "       [[96, 96, 62, 44, 78],\n",
       "        [79, 13, 82, 14, 21],\n",
       "        [47, 28, 91, 56,  2]]], dtype=int32)"
      ]
     },
     "execution_count": 42,
     "metadata": {},
     "output_type": "execute_result"
    }
   ],
   "source": [
    "b = a.reshape(2,3,5)\n",
    "b"
   ]
  },
  {
   "cell_type": "code",
   "execution_count": 43,
   "metadata": {},
   "outputs": [
    {
     "data": {
      "text/plain": [
       "array([[47,  3, 60, 32, 59],\n",
       "       [89, 93, 68,  6, 15],\n",
       "       [55, 49, 41, 68, 14],\n",
       "       [96, 96, 62, 44, 78],\n",
       "       [79, 13, 82, 14, 21],\n",
       "       [47, 28, 91, 56,  2]], dtype=int32)"
      ]
     },
     "execution_count": 43,
     "metadata": {},
     "output_type": "execute_result"
    }
   ],
   "source": [
    "c = a.reshape(6,5)\n",
    "c"
   ]
  },
  {
   "cell_type": "code",
   "execution_count": 44,
   "metadata": {},
   "outputs": [
    {
     "name": "stdout",
     "output_type": "stream",
     "text": [
      "Shape of a: \n",
      " (30,)\n",
      "Shape of b: \n",
      " (2, 3, 5)\n",
      "Shape of c: \n",
      " (6, 5)\n"
     ]
    }
   ],
   "source": [
    "print(\"Shape of a: \\n\", a.shape)\n",
    "print(\"Shape of b: \\n\", b.shape)\n",
    "print(\"Shape of c: \\n\", c.shape)"
   ]
  },
  {
   "cell_type": "code",
   "execution_count": 45,
   "metadata": {},
   "outputs": [
    {
     "data": {
      "text/plain": [
       "array([47,  3, 60, 32, 59, 89, 93, 68,  6, 15, 55, 49, 41, 68, 14, 96, 96,\n",
       "       62, 44, 78, 79, 13, 82, 14, 21, 47, 28, 91, 56,  2], dtype=int32)"
      ]
     },
     "execution_count": 45,
     "metadata": {},
     "output_type": "execute_result"
    }
   ],
   "source": [
    "b_flat = b.ravel()\n",
    "b_flat"
   ]
  },
  {
   "cell_type": "markdown",
   "metadata": {},
   "source": [
    "10. Chapter 3.10 Indexing and Slicing"
   ]
  },
  {
   "cell_type": "code",
   "execution_count": 46,
   "metadata": {},
   "outputs": [
    {
     "name": "stdout",
     "output_type": "stream",
     "text": [
      "Array: [ 0  1  2  3  4  5  6  7  8  9 10]\n"
     ]
    }
   ],
   "source": [
    "array_1 = np.arange(0,11)\n",
    "print(\"Array:\", array_1)"
   ]
  },
  {
   "cell_type": "code",
   "execution_count": 47,
   "metadata": {},
   "outputs": [
    {
     "name": "stdout",
     "output_type": "stream",
     "text": [
      "Element at the 7th index is: \n",
      " 7\n"
     ]
    }
   ],
   "source": [
    "print(\"Element at the 7th index is: \\n\", array_1[7])"
   ]
  },
  {
   "cell_type": "code",
   "execution_count": 48,
   "metadata": {},
   "outputs": [
    {
     "name": "stdout",
     "output_type": "stream",
     "text": [
      "Elements from the 3rd to 5th index are: \n",
      " [3 4 5]\n"
     ]
    }
   ],
   "source": [
    "print(\"Elements from the 3rd to 5th index are: \\n\",\\\n",
    "    array_1[3:6])"
   ]
  },
  {
   "cell_type": "code",
   "execution_count": 49,
   "metadata": {},
   "outputs": [
    {
     "name": "stdout",
     "output_type": "stream",
     "text": [
      "Elements up to the 4th index are: \n",
      " [0 1 2 3]\n"
     ]
    }
   ],
   "source": [
    "print(\"Elements up to the 4th index are: \\n\", \\\n",
    "    array_1[:4])"
   ]
  },
  {
   "cell_type": "code",
   "execution_count": 50,
   "metadata": {},
   "outputs": [
    {
     "name": "stdout",
     "output_type": "stream",
     "text": [
      "Elements from last backwards are: \n",
      " [10  9  8  7  6  5  4  3  2  1  0]\n"
     ]
    }
   ],
   "source": [
    "print(\"Elements from last backwards are: \\n\", \\\n",
    "    array_1[-1::-1])"
   ]
  },
  {
   "cell_type": "code",
   "execution_count": 51,
   "metadata": {},
   "outputs": [
    {
     "name": "stdout",
     "output_type": "stream",
     "text": [
      "3 Elements from last backwards are: \n",
      " [10  8  6]\n"
     ]
    }
   ],
   "source": [
    "print(\"3 Elements from last backwards are: \\n\", \\\n",
    "    array_1[-1:-6:-2])"
   ]
  },
  {
   "cell_type": "code",
   "execution_count": 52,
   "metadata": {},
   "outputs": [
    {
     "name": "stdout",
     "output_type": "stream",
     "text": [
      "New array: \n",
      " [ 0  2  4  6  8 10 12 14 16 18 20]\n"
     ]
    }
   ],
   "source": [
    "array_2 = np.arange(0,21,2)\n",
    "print(\"New array: \\n\", array_2)"
   ]
  },
  {
   "cell_type": "code",
   "execution_count": 53,
   "metadata": {},
   "outputs": [
    {
     "name": "stdout",
     "output_type": "stream",
     "text": [
      "Elements at 2nd, 4th, and 9th index are: \n",
      " [ 4  8 18]\n"
     ]
    }
   ],
   "source": [
    "print(\"Elements at 2nd, 4th, and 9th index are: \\n\", \\\n",
    "    array_2[[2,4,9]])"
   ]
  },
  {
   "cell_type": "code",
   "execution_count": 54,
   "metadata": {},
   "outputs": [
    {
     "name": "stdout",
     "output_type": "stream",
     "text": [
      "Matrix of random 2 digit numbers: \n",
      " [[32 88 53 49 88]\n",
      " [11 35 23 77 15]\n",
      " [95 11 46 57 65]]\n"
     ]
    }
   ],
   "source": [
    "matrix_1 = np.random.randint(10,100,15).reshape(3,5)\n",
    "print(\"Matrix of random 2 digit numbers: \\n\", matrix_1)"
   ]
  },
  {
   "cell_type": "code",
   "execution_count": 55,
   "metadata": {},
   "outputs": [
    {
     "name": "stdout",
     "output_type": "stream",
     "text": [
      "\n",
      " Double bracket indexing \n",
      "\n",
      "Element in row index 1 and column index 2: 23\n"
     ]
    }
   ],
   "source": [
    "print(\"\\n Double bracket indexing \\n\")\n",
    "print(\"Element in row index 1 and column index 2:\",\\\n",
    "    matrix_1[1][2])"
   ]
  },
  {
   "cell_type": "code",
   "execution_count": 56,
   "metadata": {},
   "outputs": [
    {
     "name": "stdout",
     "output_type": "stream",
     "text": [
      "\n",
      " Single bracket with comma indexing:\n",
      "\n",
      "Element in row index 1 and columnn index 2:\n",
      " 23\n"
     ]
    }
   ],
   "source": [
    "print(\"\\n Single bracket with comma indexing:\\n\")\n",
    "print(\"Element in row index 1 and columnn index 2:\\n\",\\\n",
    "    matrix_1[1,2])"
   ]
  },
  {
   "cell_type": "code",
   "execution_count": 57,
   "metadata": {},
   "outputs": [
    {
     "name": "stdout",
     "output_type": "stream",
     "text": [
      "\n",
      " Row or column extract \n",
      "\n",
      "Entire row at index 2: \n",
      " [95 11 46 57 65]\n",
      "\n",
      " Entire column at index 3: \n",
      " [49 77 57]\n"
     ]
    }
   ],
   "source": [
    "print(\"\\n Row or column extract \\n\")\n",
    "print(\"Entire row at index 2: \\n\", matrix_1[2])\n",
    "print(\"\\n Entire column at index 3: \\n\", matrix_1[:,3])\n"
   ]
  },
  {
   "cell_type": "code",
   "execution_count": 58,
   "metadata": {},
   "outputs": [
    {
     "name": "stdout",
     "output_type": "stream",
     "text": [
      "\n",
      " Subsetting sub-matrices\n",
      "\n",
      "Matrix with row indices 1 and 2 and column indices 3 and 4\n",
      " [[77 15]\n",
      " [57 65]]\n"
     ]
    }
   ],
   "source": [
    "print(\"\\n Subsetting sub-matrices\\n\")\n",
    "print(\"Matrix with row indices 1 and 2 and column \"\\\n",
    "    \"indices 3 and 4\\n\", matrix_1[1:3,3:5])"
   ]
  },
  {
   "cell_type": "code",
   "execution_count": 59,
   "metadata": {},
   "outputs": [
    {
     "name": "stdout",
     "output_type": "stream",
     "text": [
      "Matrix with row indices 0 and 1 and column Indices 1 and 3\n",
      "  [[88 53]\n",
      " [35 23]]\n"
     ]
    }
   ],
   "source": [
    "print(\"Matrix with row indices 0 and 1 and column \"\\\n",
    "    \"Indices 1 and 3\\n \", matrix_1[0:2, 1:3])"
   ]
  },
  {
   "cell_type": "markdown",
   "metadata": {},
   "source": [
    "Conditional Subsetting"
   ]
  },
  {
   "cell_type": "code",
   "execution_count": 60,
   "metadata": {},
   "outputs": [
    {
     "name": "stdout",
     "output_type": "stream",
     "text": [
      "Matrix of random 2-digit numbers\n",
      " [[12 62 27 72 19]\n",
      " [87 17 78 61 34]\n",
      " [31 97 22 85 96]]\n",
      "\n",
      " Elements greater than 50\n",
      " [62 72 87 78 61 97 85 96]\n"
     ]
    }
   ],
   "source": [
    "matrix_1= np.array(np.random.randint(10,100,15)).reshape(3,5)\n",
    "print(\"Matrix of random 2-digit numbers\\n\", matrix_1)\n",
    "print(\"\\n Elements greater than 50\\n\", matrix_1[matrix_1>50])"
   ]
  },
  {
   "cell_type": "markdown",
   "metadata": {},
   "source": [
    "11. Chapter 3.11 Array Operations"
   ]
  },
  {
   "cell_type": "code",
   "execution_count": 61,
   "metadata": {},
   "outputs": [
    {
     "name": "stdout",
     "output_type": "stream",
     "text": [
      "\n",
      " 1st Matrix of random single-digitnumbers\n",
      " [[5 1 9]\n",
      " [8 4 9]\n",
      " [1 2 2]]\n",
      "\n",
      " 2nd Matrix of random single-digit numbers\n",
      " [[8 8 6]\n",
      " [7 1 8]\n",
      " [2 2 5]]\n"
     ]
    }
   ],
   "source": [
    "matrix_1 = np.random.randint(1,10,9).reshape(3,3)\n",
    "matrix_2 = np.random.randint(1,10,9).reshape(3,3)\n",
    "print(\"\\n 1st Matrix of random single-digitnumbers\\n\", \\\n",
    "    matrix_1)\n",
    "print(\"\\n 2nd Matrix of random single-digit numbers\\n\", \\\n",
    "    matrix_2)"
   ]
  },
  {
   "cell_type": "code",
   "execution_count": 62,
   "metadata": {},
   "outputs": [
    {
     "name": "stdout",
     "output_type": "stream",
     "text": [
      "\n",
      " Addition \n",
      " [[13  9 15]\n",
      " [15  5 17]\n",
      " [ 3  4  7]]\n",
      "\n",
      " Multiplication \n",
      " [[40  8 54]\n",
      " [56  4 72]\n",
      " [ 2  4 10]]\n",
      "\n",
      " Division \n",
      " [[0.625      0.125      1.5       ]\n",
      " [1.14285714 4.         1.125     ]\n",
      " [0.5        1.         0.4       ]]\n",
      "\n",
      " Linear combination: 3*A-2*B\n",
      " [[ -1 -13  15]\n",
      " [ 10  10  11]\n",
      " [ -1   2  -4]]\n"
     ]
    }
   ],
   "source": [
    "print(\"\\n Addition \\n\", matrix_1 + matrix_2)\n",
    "print(\"\\n Multiplication \\n\", matrix_1 * matrix_2)\n",
    "print(\"\\n Division \\n\", matrix_1 / matrix_2)\n",
    "print(\"\\n Linear combination: 3*A-2*B\\n\", \\\n",
    "    3*matrix_1-2*matrix_2)"
   ]
  },
  {
   "cell_type": "code",
   "execution_count": 63,
   "metadata": {},
   "outputs": [
    {
     "name": "stdout",
     "output_type": "stream",
     "text": [
      "\n",
      " Addition of a scalar(100)\n",
      " [[105 101 109]\n",
      " [108 104 109]\n",
      " [101 102 102]]\n",
      "\n",
      " Exponentiation, matrix cubed here \n",
      " [[125   1 729]\n",
      " [512  64 729]\n",
      " [  1   8   8]]\n",
      "\n",
      " Exponentiation, square root rsing 'pow' function\n",
      " [[2.23606798 1.         3.        ]\n",
      " [2.82842712 2.         3.        ]\n",
      " [1.         1.41421356 1.41421356]]\n"
     ]
    }
   ],
   "source": [
    "print(\"\\n Addition of a scalar(100)\\n\", 100+matrix_1)\n",
    "print(\"\\n Exponentiation, matrix cubed here \\n\", matrix_1**3)\n",
    "print(\"\\n Exponentiation, square root rsing 'pow' function\\n\", \\\n",
    "    pow(matrix_1, 0.5))"
   ]
  },
  {
   "cell_type": "markdown",
   "metadata": {},
   "source": [
    "Stacking Arrays"
   ]
  },
  {
   "cell_type": "code",
   "execution_count": 64,
   "metadata": {},
   "outputs": [
    {
     "name": "stdout",
     "output_type": "stream",
     "text": [
      "matrix a \n",
      " [[1 2]\n",
      " [3 4]]\n",
      "matrix b \n",
      " [[5 6]\n",
      " [7 8]]\n",
      "Vertical stacking \n",
      " [[1 2]\n",
      " [3 4]\n",
      " [5 6]\n",
      " [7 8]]\n",
      "Horizontal stack \n",
      " [[1 2 5 6]\n",
      " [3 4 7 8]]\n"
     ]
    }
   ],
   "source": [
    "a = np.array([[1, 2], [3, 4]])\n",
    "b = np.array([[5, 6], [7, 8]])\n",
    "print(\"matrix a \\n\", a)\n",
    "print(\"matrix b \\n\", b)\n",
    "print(\"Vertical stacking \\n\", np.vstack((a, b)))\n",
    "print(\"Horizontal stack \\n\", np.hstack((a, b)))"
   ]
  },
  {
   "cell_type": "markdown",
   "metadata": {},
   "source": [
    "12. Chapter 3.12 Creating  a Pandas Series\n"
   ]
  },
  {
   "cell_type": "code",
   "execution_count": 65,
   "metadata": {},
   "outputs": [],
   "source": [
    "labels = ['a', 'b', 'c']\n",
    "my_data = [10, 20, 30]\n",
    "array_1 = np.array(my_data)\n",
    "d = {'a' : 10, 'b' : 20, 'c' : 30}"
   ]
  },
  {
   "cell_type": "code",
   "execution_count": 66,
   "metadata": {},
   "outputs": [
    {
     "name": "stdout",
     "output_type": "stream",
     "text": [
      "\n",
      " Holding numerical data \n",
      "-------------------------\n",
      "0    10\n",
      "1    20\n",
      "2    30\n",
      "dtype: int64\n"
     ]
    }
   ],
   "source": [
    "print(\"\\n Holding numerical data \\n\", '-' *25, sep='')\n",
    "print(pd.Series(array_1))"
   ]
  },
  {
   "cell_type": "code",
   "execution_count": 67,
   "metadata": {},
   "outputs": [
    {
     "name": "stdout",
     "output_type": "stream",
     "text": [
      "\n",
      " Holding Text Labels\n",
      "--------------------\n",
      "0    a\n",
      "1    b\n",
      "2    c\n",
      "dtype: object\n"
     ]
    }
   ],
   "source": [
    "print(\"\\n Holding Text Labels\\n\", '-'*20, sep='')\n",
    "print(pd.Series(labels))"
   ]
  },
  {
   "cell_type": "code",
   "execution_count": 68,
   "metadata": {},
   "outputs": [
    {
     "name": "stdout",
     "output_type": "stream",
     "text": [
      "\n",
      " Holding functions\n",
      "-\n",
      "0      <built-in function sum>\n",
      "1    <built-in function print>\n",
      "2      <built-in function len>\n",
      "dtype: object\n"
     ]
    }
   ],
   "source": [
    "print(\"\\n Holding functions\\n\", '-', sep= '')\n",
    "print(pd.Series(data = [sum, print,len]))"
   ]
  },
  {
   "cell_type": "code",
   "execution_count": 69,
   "metadata": {},
   "outputs": [
    {
     "name": "stdout",
     "output_type": "stream",
     "text": [
      "\n",
      " Holding objects from a dictionary\n",
      "----------------------------------------\n",
      "0    <built-in method keys of dict object at 0x0000...\n",
      "1    <built-in method items of dict object at 0x000...\n",
      "2    <built-in method values of dict object at 0x00...\n",
      "dtype: object\n"
     ]
    }
   ],
   "source": [
    "print(\"\\n Holding objects from a dictionary\\n\", '-'*40, sep='')\n",
    "print(pd.Series(data=[d.keys, d.items, d.values]))"
   ]
  },
  {
   "cell_type": "markdown",
   "metadata": {},
   "source": [
    "13. Chapter 3.13 Pandas Series and Data Handling"
   ]
  },
  {
   "cell_type": "code",
   "execution_count": 70,
   "metadata": {},
   "outputs": [
    {
     "name": "stdout",
     "output_type": "stream",
     "text": [
      "\n",
      " Holding numerical data\n",
      "-------------------------\n",
      "0    10\n",
      "1    20\n",
      "2    30\n",
      "dtype: int64\n"
     ]
    }
   ],
   "source": [
    "labels = ['a', 'b', 'c']\n",
    "my_data = [10, 20, 30]\n",
    "array_1 = np.array(my_data)\n",
    "d = {'a':10, 'b':20, 'c':30}\n",
    "print(\"\\n Holding numerical data\\n\", '-'*25, sep = '')\n",
    "print(pd.Series(array_1))"
   ]
  },
  {
   "cell_type": "code",
   "execution_count": 71,
   "metadata": {},
   "outputs": [
    {
     "name": "stdout",
     "output_type": "stream",
     "text": [
      "\n",
      " Holding text labels\n",
      "--------------------\n",
      "0    a\n",
      "1    b\n",
      "2    c\n",
      "dtype: object\n"
     ]
    }
   ],
   "source": [
    "print(\"\\n Holding text labels\\n\", '-'*20, sep='')\n",
    "print(pd.Series(labels))"
   ]
  },
  {
   "cell_type": "code",
   "execution_count": 72,
   "metadata": {},
   "outputs": [
    {
     "name": "stdout",
     "output_type": "stream",
     "text": [
      "\n",
      " Holding functions\n",
      "--------------------\n",
      "0      <built-in function sum>\n",
      "1    <built-in function print>\n",
      "2      <built-in function len>\n",
      "dtype: object\n"
     ]
    }
   ],
   "source": [
    "print(\"\\n Holding functions\\n\", '-'*20, sep = '')\n",
    "print(pd.Series(data=[sum, print, len]))"
   ]
  },
  {
   "cell_type": "code",
   "execution_count": 73,
   "metadata": {},
   "outputs": [
    {
     "name": "stdout",
     "output_type": "stream",
     "text": [
      "\n",
      " Holding objects from a dictionary\n",
      "----------------------------------------\n",
      "0    <built-in method keys of dict object at 0x0000...\n",
      "1    <built-in method items of dict object at 0x000...\n",
      "2    <built-in method values of dict object at 0x00...\n",
      "dtype: object\n"
     ]
    }
   ],
   "source": [
    "print(\"\\n Holding objects from a dictionary\\n\", '-'*40, sep = '')\n",
    "print(pd.Series(data=[d.keys, d.items, d.values]))"
   ]
  },
  {
   "cell_type": "markdown",
   "metadata": {},
   "source": [
    "14. Chapter 3.14 Creating Pandas Dataframe"
   ]
  },
  {
   "cell_type": "code",
   "execution_count": 74,
   "metadata": {},
   "outputs": [],
   "source": [
    "matrix_data = np.random.randint(1,10,size=20).reshape(5,4)"
   ]
  },
  {
   "cell_type": "code",
   "execution_count": 75,
   "metadata": {},
   "outputs": [],
   "source": [
    "row_labels = ['A', 'B', 'C', 'D', 'E']\n",
    "column_headings = ['W', 'X', 'Y', 'Z'] "
   ]
  },
  {
   "cell_type": "code",
   "execution_count": 76,
   "metadata": {},
   "outputs": [],
   "source": [
    "df= pd.DataFrame(data = matrix_data, index = row_labels,\\\n",
    "    columns = column_headings)"
   ]
  },
  {
   "cell_type": "code",
   "execution_count": 77,
   "metadata": {},
   "outputs": [
    {
     "name": "stdout",
     "output_type": "stream",
     "text": [
      "\n",
      " The dataframe looks like this\n",
      "---------------------------------------------\n",
      "   W  X  Y  Z\n",
      "A  7  8  7  9\n",
      "B  3  5  5  4\n",
      "C  7  7  4  3\n",
      "D  2  7  5  1\n",
      "E  2  7  9  7\n"
     ]
    }
   ],
   "source": [
    "print(\"\\n The dataframe looks like this\\n\", '-'*45, sep = '')\n",
    "print(df)"
   ]
  },
  {
   "cell_type": "code",
   "execution_count": 78,
   "metadata": {},
   "outputs": [],
   "source": [
    "d = {'A':[10,20], 'B': [30,40], 'C': [50,60]}"
   ]
  },
  {
   "cell_type": "code",
   "execution_count": 79,
   "metadata": {},
   "outputs": [
    {
     "name": "stdout",
     "output_type": "stream",
     "text": [
      "    A   B   C\n",
      "X  10  30  50\n",
      "Y  20  40  60\n"
     ]
    }
   ],
   "source": [
    "df2 = pd.DataFrame(data = d, index= ['X','Y'])\n",
    "print(df2)"
   ]
  },
  {
   "cell_type": "markdown",
   "metadata": {},
   "source": [
    "15. Chapter 3.15 Viewing a Dataframe Partially"
   ]
  },
  {
   "cell_type": "code",
   "execution_count": 80,
   "metadata": {},
   "outputs": [],
   "source": [
    "# 25 rows and 4 columns\n",
    "matrix_data = np.random.randint(1,100,100).reshape(25,4)\n",
    "column_headings = ['W', 'X', 'Y', 'Z' ]\n",
    "df = pd.DataFrame(data = matrix_data, columns = column_headings )"
   ]
  },
  {
   "cell_type": "code",
   "execution_count": 81,
   "metadata": {},
   "outputs": [
    {
     "data": {
      "text/html": [
       "<div>\n",
       "<style scoped>\n",
       "    .dataframe tbody tr th:only-of-type {\n",
       "        vertical-align: middle;\n",
       "    }\n",
       "\n",
       "    .dataframe tbody tr th {\n",
       "        vertical-align: top;\n",
       "    }\n",
       "\n",
       "    .dataframe thead th {\n",
       "        text-align: right;\n",
       "    }\n",
       "</style>\n",
       "<table border=\"1\" class=\"dataframe\">\n",
       "  <thead>\n",
       "    <tr style=\"text-align: right;\">\n",
       "      <th></th>\n",
       "      <th>W</th>\n",
       "      <th>X</th>\n",
       "      <th>Y</th>\n",
       "      <th>Z</th>\n",
       "    </tr>\n",
       "  </thead>\n",
       "  <tbody>\n",
       "    <tr>\n",
       "      <th>0</th>\n",
       "      <td>58</td>\n",
       "      <td>68</td>\n",
       "      <td>49</td>\n",
       "      <td>12</td>\n",
       "    </tr>\n",
       "    <tr>\n",
       "      <th>1</th>\n",
       "      <td>11</td>\n",
       "      <td>78</td>\n",
       "      <td>51</td>\n",
       "      <td>82</td>\n",
       "    </tr>\n",
       "    <tr>\n",
       "      <th>2</th>\n",
       "      <td>31</td>\n",
       "      <td>27</td>\n",
       "      <td>69</td>\n",
       "      <td>90</td>\n",
       "    </tr>\n",
       "    <tr>\n",
       "      <th>3</th>\n",
       "      <td>81</td>\n",
       "      <td>42</td>\n",
       "      <td>96</td>\n",
       "      <td>42</td>\n",
       "    </tr>\n",
       "    <tr>\n",
       "      <th>4</th>\n",
       "      <td>57</td>\n",
       "      <td>22</td>\n",
       "      <td>54</td>\n",
       "      <td>60</td>\n",
       "    </tr>\n",
       "  </tbody>\n",
       "</table>\n",
       "</div>"
      ],
      "text/plain": [
       "    W   X   Y   Z\n",
       "0  58  68  49  12\n",
       "1  11  78  51  82\n",
       "2  31  27  69  90\n",
       "3  81  42  96  42\n",
       "4  57  22  54  60"
      ]
     },
     "execution_count": 81,
     "metadata": {},
     "output_type": "execute_result"
    }
   ],
   "source": [
    "df.head()"
   ]
  },
  {
   "cell_type": "code",
   "execution_count": 82,
   "metadata": {},
   "outputs": [
    {
     "data": {
      "text/html": [
       "<div>\n",
       "<style scoped>\n",
       "    .dataframe tbody tr th:only-of-type {\n",
       "        vertical-align: middle;\n",
       "    }\n",
       "\n",
       "    .dataframe tbody tr th {\n",
       "        vertical-align: top;\n",
       "    }\n",
       "\n",
       "    .dataframe thead th {\n",
       "        text-align: right;\n",
       "    }\n",
       "</style>\n",
       "<table border=\"1\" class=\"dataframe\">\n",
       "  <thead>\n",
       "    <tr style=\"text-align: right;\">\n",
       "      <th></th>\n",
       "      <th>W</th>\n",
       "      <th>X</th>\n",
       "      <th>Y</th>\n",
       "      <th>Z</th>\n",
       "    </tr>\n",
       "  </thead>\n",
       "  <tbody>\n",
       "    <tr>\n",
       "      <th>0</th>\n",
       "      <td>58</td>\n",
       "      <td>68</td>\n",
       "      <td>49</td>\n",
       "      <td>12</td>\n",
       "    </tr>\n",
       "    <tr>\n",
       "      <th>1</th>\n",
       "      <td>11</td>\n",
       "      <td>78</td>\n",
       "      <td>51</td>\n",
       "      <td>82</td>\n",
       "    </tr>\n",
       "    <tr>\n",
       "      <th>2</th>\n",
       "      <td>31</td>\n",
       "      <td>27</td>\n",
       "      <td>69</td>\n",
       "      <td>90</td>\n",
       "    </tr>\n",
       "    <tr>\n",
       "      <th>3</th>\n",
       "      <td>81</td>\n",
       "      <td>42</td>\n",
       "      <td>96</td>\n",
       "      <td>42</td>\n",
       "    </tr>\n",
       "    <tr>\n",
       "      <th>4</th>\n",
       "      <td>57</td>\n",
       "      <td>22</td>\n",
       "      <td>54</td>\n",
       "      <td>60</td>\n",
       "    </tr>\n",
       "    <tr>\n",
       "      <th>5</th>\n",
       "      <td>75</td>\n",
       "      <td>46</td>\n",
       "      <td>11</td>\n",
       "      <td>9</td>\n",
       "    </tr>\n",
       "    <tr>\n",
       "      <th>6</th>\n",
       "      <td>79</td>\n",
       "      <td>73</td>\n",
       "      <td>79</td>\n",
       "      <td>86</td>\n",
       "    </tr>\n",
       "    <tr>\n",
       "      <th>7</th>\n",
       "      <td>52</td>\n",
       "      <td>81</td>\n",
       "      <td>33</td>\n",
       "      <td>2</td>\n",
       "    </tr>\n",
       "  </tbody>\n",
       "</table>\n",
       "</div>"
      ],
      "text/plain": [
       "    W   X   Y   Z\n",
       "0  58  68  49  12\n",
       "1  11  78  51  82\n",
       "2  31  27  69  90\n",
       "3  81  42  96  42\n",
       "4  57  22  54  60\n",
       "5  75  46  11   9\n",
       "6  79  73  79  86\n",
       "7  52  81  33   2"
      ]
     },
     "execution_count": 82,
     "metadata": {},
     "output_type": "execute_result"
    }
   ],
   "source": [
    "df.head(8)"
   ]
  },
  {
   "cell_type": "code",
   "execution_count": 83,
   "metadata": {},
   "outputs": [
    {
     "data": {
      "text/html": [
       "<div>\n",
       "<style scoped>\n",
       "    .dataframe tbody tr th:only-of-type {\n",
       "        vertical-align: middle;\n",
       "    }\n",
       "\n",
       "    .dataframe tbody tr th {\n",
       "        vertical-align: top;\n",
       "    }\n",
       "\n",
       "    .dataframe thead th {\n",
       "        text-align: right;\n",
       "    }\n",
       "</style>\n",
       "<table border=\"1\" class=\"dataframe\">\n",
       "  <thead>\n",
       "    <tr style=\"text-align: right;\">\n",
       "      <th></th>\n",
       "      <th>W</th>\n",
       "      <th>X</th>\n",
       "      <th>Y</th>\n",
       "      <th>Z</th>\n",
       "    </tr>\n",
       "  </thead>\n",
       "  <tbody>\n",
       "    <tr>\n",
       "      <th>15</th>\n",
       "      <td>58</td>\n",
       "      <td>86</td>\n",
       "      <td>41</td>\n",
       "      <td>51</td>\n",
       "    </tr>\n",
       "    <tr>\n",
       "      <th>16</th>\n",
       "      <td>90</td>\n",
       "      <td>84</td>\n",
       "      <td>32</td>\n",
       "      <td>83</td>\n",
       "    </tr>\n",
       "    <tr>\n",
       "      <th>17</th>\n",
       "      <td>6</td>\n",
       "      <td>21</td>\n",
       "      <td>93</td>\n",
       "      <td>60</td>\n",
       "    </tr>\n",
       "    <tr>\n",
       "      <th>18</th>\n",
       "      <td>58</td>\n",
       "      <td>65</td>\n",
       "      <td>15</td>\n",
       "      <td>66</td>\n",
       "    </tr>\n",
       "    <tr>\n",
       "      <th>19</th>\n",
       "      <td>52</td>\n",
       "      <td>15</td>\n",
       "      <td>98</td>\n",
       "      <td>89</td>\n",
       "    </tr>\n",
       "    <tr>\n",
       "      <th>20</th>\n",
       "      <td>84</td>\n",
       "      <td>52</td>\n",
       "      <td>47</td>\n",
       "      <td>80</td>\n",
       "    </tr>\n",
       "    <tr>\n",
       "      <th>21</th>\n",
       "      <td>18</td>\n",
       "      <td>68</td>\n",
       "      <td>95</td>\n",
       "      <td>74</td>\n",
       "    </tr>\n",
       "    <tr>\n",
       "      <th>22</th>\n",
       "      <td>46</td>\n",
       "      <td>49</td>\n",
       "      <td>86</td>\n",
       "      <td>5</td>\n",
       "    </tr>\n",
       "    <tr>\n",
       "      <th>23</th>\n",
       "      <td>5</td>\n",
       "      <td>16</td>\n",
       "      <td>17</td>\n",
       "      <td>37</td>\n",
       "    </tr>\n",
       "    <tr>\n",
       "      <th>24</th>\n",
       "      <td>77</td>\n",
       "      <td>52</td>\n",
       "      <td>24</td>\n",
       "      <td>71</td>\n",
       "    </tr>\n",
       "  </tbody>\n",
       "</table>\n",
       "</div>"
      ],
      "text/plain": [
       "     W   X   Y   Z\n",
       "15  58  86  41  51\n",
       "16  90  84  32  83\n",
       "17   6  21  93  60\n",
       "18  58  65  15  66\n",
       "19  52  15  98  89\n",
       "20  84  52  47  80\n",
       "21  18  68  95  74\n",
       "22  46  49  86   5\n",
       "23   5  16  17  37\n",
       "24  77  52  24  71"
      ]
     },
     "execution_count": 83,
     "metadata": {},
     "output_type": "execute_result"
    }
   ],
   "source": [
    "df.tail(10)"
   ]
  },
  {
   "cell_type": "markdown",
   "metadata": {},
   "source": [
    "Indexing and Slicing"
   ]
  },
  {
   "cell_type": "code",
   "execution_count": 84,
   "metadata": {},
   "outputs": [
    {
     "name": "stdout",
     "output_type": "stream",
     "text": [
      "'\n",
      " The 'X' column\n",
      "-------------------------\n"
     ]
    }
   ],
   "source": [
    "print(\"'\\n The 'X' column\\n\", '-'*25, sep='')\n"
   ]
  },
  {
   "cell_type": "code",
   "execution_count": 85,
   "metadata": {},
   "outputs": [
    {
     "name": "stdout",
     "output_type": "stream",
     "text": [
      "0     68\n",
      "1     78\n",
      "2     27\n",
      "3     42\n",
      "4     22\n",
      "5     46\n",
      "6     73\n",
      "7     81\n",
      "8     53\n",
      "9     83\n",
      "10    12\n",
      "11    20\n",
      "12    95\n",
      "13    92\n",
      "14    21\n",
      "15    86\n",
      "16    84\n",
      "17    21\n",
      "18    65\n",
      "19    15\n",
      "20    52\n",
      "21    68\n",
      "22    49\n",
      "23    16\n",
      "24    52\n",
      "Name: X, dtype: int32\n"
     ]
    }
   ],
   "source": [
    "print(df['X'])\n"
   ]
  },
  {
   "cell_type": "code",
   "execution_count": 86,
   "metadata": {},
   "outputs": [
    {
     "name": "stdout",
     "output_type": "stream",
     "text": [
      "\n",
      " Type of the column:\n",
      "<class 'pandas.core.series.Series'>\n"
     ]
    }
   ],
   "source": [
    "print(\"\\n Type of the column:\\n\", type(df['X']), sep='')\n"
   ]
  },
  {
   "cell_type": "code",
   "execution_count": 87,
   "metadata": {},
   "outputs": [
    {
     "name": "stdout",
     "output_type": "stream",
     "text": [
      "\n",
      " The 'X' and 'Z' columns indexed by passing a list\n",
      "-------------------------------------------------------\n"
     ]
    }
   ],
   "source": [
    "print(\"\\n The 'X' and 'Z' columns indexed by passing a list\\n\", '-'*55, sep='')\n"
   ]
  },
  {
   "cell_type": "code",
   "execution_count": 88,
   "metadata": {},
   "outputs": [
    {
     "name": "stdout",
     "output_type": "stream",
     "text": [
      "     X   Z\n",
      "0   68  12\n",
      "1   78  82\n",
      "2   27  90\n",
      "3   42  42\n",
      "4   22  60\n",
      "5   46   9\n",
      "6   73  86\n",
      "7   81   2\n",
      "8   53  61\n",
      "9   83   4\n",
      "10  12  73\n",
      "11  20  69\n",
      "12  95  27\n",
      "13  92  13\n",
      "14  21  84\n",
      "15  86  51\n",
      "16  84  83\n",
      "17  21  60\n",
      "18  65  66\n",
      "19  15  89\n",
      "20  52  80\n",
      "21  68  74\n",
      "22  49   5\n",
      "23  16  37\n",
      "24  52  71\n"
     ]
    }
   ],
   "source": [
    "print(df[['X', 'Z']])\n"
   ]
  },
  {
   "cell_type": "code",
   "execution_count": 89,
   "metadata": {},
   "outputs": [
    {
     "name": "stdout",
     "output_type": "stream",
     "text": [
      "\n",
      " Type of the pair of columns:<class 'pandas.core.frame.DataFrame'>\n"
     ]
    }
   ],
   "source": [
    "print(\"\\n Type of the pair of columns:\", type(df[['X', 'Z']]), sep = '')"
   ]
  },
  {
   "cell_type": "markdown",
   "metadata": {},
   "source": [
    "Indexing and Slicing Rows"
   ]
  },
  {
   "cell_type": "markdown",
   "metadata": {},
   "source": [
    "16. Chapter 3.16 Creating and Deleting a New Column or Row"
   ]
  },
  {
   "cell_type": "code",
   "execution_count": 90,
   "metadata": {},
   "outputs": [],
   "source": [
    "df = pd.read_csv(r\"C:\\Users\\mchlp\\OneDrive\\Documents\\Data Preperation\\The-Data-Wrangling-Workshop\\Chapter03\\datasets\\stock.csv\")"
   ]
  },
  {
   "cell_type": "code",
   "execution_count": 91,
   "metadata": {},
   "outputs": [
    {
     "data": {
      "text/html": [
       "<div>\n",
       "<style scoped>\n",
       "    .dataframe tbody tr th:only-of-type {\n",
       "        vertical-align: middle;\n",
       "    }\n",
       "\n",
       "    .dataframe tbody tr th {\n",
       "        vertical-align: top;\n",
       "    }\n",
       "\n",
       "    .dataframe thead th {\n",
       "        text-align: right;\n",
       "    }\n",
       "</style>\n",
       "<table border=\"1\" class=\"dataframe\">\n",
       "  <thead>\n",
       "    <tr style=\"text-align: right;\">\n",
       "      <th></th>\n",
       "      <th>Symbol</th>\n",
       "      <th>Price</th>\n",
       "    </tr>\n",
       "  </thead>\n",
       "  <tbody>\n",
       "    <tr>\n",
       "      <th>0</th>\n",
       "      <td>MMM</td>\n",
       "      <td>100</td>\n",
       "    </tr>\n",
       "    <tr>\n",
       "      <th>1</th>\n",
       "      <td>AOS</td>\n",
       "      <td>101</td>\n",
       "    </tr>\n",
       "    <tr>\n",
       "      <th>2</th>\n",
       "      <td>ABT</td>\n",
       "      <td>102</td>\n",
       "    </tr>\n",
       "    <tr>\n",
       "      <th>3</th>\n",
       "      <td>ABBV</td>\n",
       "      <td>103</td>\n",
       "    </tr>\n",
       "    <tr>\n",
       "      <th>4</th>\n",
       "      <td>ACN</td>\n",
       "      <td>104</td>\n",
       "    </tr>\n",
       "  </tbody>\n",
       "</table>\n",
       "</div>"
      ],
      "text/plain": [
       "  Symbol  Price\n",
       "0    MMM    100\n",
       "1    AOS    101\n",
       "2    ABT    102\n",
       "3   ABBV    103\n",
       "4    ACN    104"
      ]
     },
     "execution_count": 91,
     "metadata": {},
     "output_type": "execute_result"
    }
   ],
   "source": [
    "df.head()"
   ]
  },
  {
   "cell_type": "code",
   "execution_count": 92,
   "metadata": {},
   "outputs": [
    {
     "name": "stdout",
     "output_type": "stream",
     "text": [
      "\n",
      " Column is created by assigning it in relation\n",
      "---------------------------------------------------------------------------\n",
      "   Symbol  Price  New  New (Sum of X and Z)\n",
      "0     MMM    100  200                   300\n",
      "1     AOS    101  202                   303\n",
      "2     ABT    102  204                   306\n",
      "3    ABBV    103  206                   309\n",
      "4     ACN    104  208                   312\n",
      "5    ATVI    105  210                   315\n",
      "6     AYI    106  212                   318\n",
      "7    ADBE    107  214                   321\n",
      "8     AAP    108  216                   324\n",
      "9     AMD    109  218                   327\n",
      "10    AES    110  220                   330\n",
      "11    AET    111  222                   333\n",
      "12    AMG    112  224                   336\n",
      "13    AFL    113  226                   339\n",
      "14      A    114  228                   342\n",
      "15    APD    115  230                   345\n",
      "16   AKAM    116  232                   348\n",
      "17    ALK    117  234                   351\n",
      "18    ALB    118  236                   354\n",
      "19    ARE    119  238                   357\n",
      "20   ALXN    120  240                   360\n",
      "21   ALGN    121  242                   363\n",
      "22   ALLE    122  244                   366\n",
      "23    AGN    123  246                   369\n",
      "24    ADS    124  248                   372\n",
      "25    LNT    125  250                   375\n",
      "26    ALL    126  252                   378\n",
      "27  GOOGL    127  254                   381\n",
      "28   GOOG    128  256                   384\n",
      "29     MO    129  258                   387\n",
      "30   AMZN    130  260                   390\n",
      "31    AEE    131  262                   393\n",
      "32    AAL    132  264                   396\n",
      "33    AEP    133  266                   399\n",
      "34    AXP    134  268                   402\n",
      "35    AIG    135  270                   405\n",
      "36    AMT    136  272                   408\n",
      "37    AWK    137  274                   411\n",
      "38    AMP    138  276                   414\n",
      "39    ABC    139  278                   417\n",
      "40    AME    140  280                   420\n",
      "41   AMGN    141  282                   423\n",
      "42    APH    142  284                   426\n",
      "43    APC    143  286                   429\n",
      "44    ADI    144  288                   432\n",
      "45   ANDV    145  290                   435\n",
      "46   ANSS    146  292                   438\n",
      "47   ANTM    147  294                   441\n",
      "48    AON    148  296                   444\n"
     ]
    }
   ],
   "source": [
    "print(\"\\n Column is created by assigning it in relation\\n\",\\\n",
    "    '-'*75, sep = '')\n",
    "df['New'] = df['Price']+df['Price']\n",
    "df['New (Sum of X and Z)']= df['New'] + df['Price']\n",
    "print(df)"
   ]
  },
  {
   "cell_type": "code",
   "execution_count": 93,
   "metadata": {},
   "outputs": [
    {
     "name": "stdout",
     "output_type": "stream",
     "text": [
      "\n",
      " Column is dropped by using df.drop() method \n",
      "-------------------------------------------------------\n",
      "   Symbol  Price  New (Sum of X and Z)\n",
      "0     MMM    100                   300\n",
      "1     AOS    101                   303\n",
      "2     ABT    102                   306\n",
      "3    ABBV    103                   309\n",
      "4     ACN    104                   312\n",
      "5    ATVI    105                   315\n",
      "6     AYI    106                   318\n",
      "7    ADBE    107                   321\n",
      "8     AAP    108                   324\n",
      "9     AMD    109                   327\n",
      "10    AES    110                   330\n",
      "11    AET    111                   333\n",
      "12    AMG    112                   336\n",
      "13    AFL    113                   339\n",
      "14      A    114                   342\n",
      "15    APD    115                   345\n",
      "16   AKAM    116                   348\n",
      "17    ALK    117                   351\n",
      "18    ALB    118                   354\n",
      "19    ARE    119                   357\n",
      "20   ALXN    120                   360\n",
      "21   ALGN    121                   363\n",
      "22   ALLE    122                   366\n",
      "23    AGN    123                   369\n",
      "24    ADS    124                   372\n",
      "25    LNT    125                   375\n",
      "26    ALL    126                   378\n",
      "27  GOOGL    127                   381\n",
      "28   GOOG    128                   384\n",
      "29     MO    129                   387\n",
      "30   AMZN    130                   390\n",
      "31    AEE    131                   393\n",
      "32    AAL    132                   396\n",
      "33    AEP    133                   399\n",
      "34    AXP    134                   402\n",
      "35    AIG    135                   405\n",
      "36    AMT    136                   408\n",
      "37    AWK    137                   411\n",
      "38    AMP    138                   414\n",
      "39    ABC    139                   417\n",
      "40    AME    140                   420\n",
      "41   AMGN    141                   423\n",
      "42    APH    142                   426\n",
      "43    APC    143                   429\n",
      "44    ADI    144                   432\n",
      "45   ANDV    145                   435\n",
      "46   ANSS    146                   438\n",
      "47   ANTM    147                   441\n",
      "48    AON    148                   444\n"
     ]
    }
   ],
   "source": [
    "print(\"\\n Column is dropped by using df.drop() method \\n\", \\\n",
    "    '-'*55, sep='')\n",
    "df = df.drop('New', axis=1)\n",
    "print(df)\n"
   ]
  },
  {
   "cell_type": "code",
   "execution_count": 94,
   "metadata": {},
   "outputs": [
    {
     "name": "stdout",
     "output_type": "stream",
     "text": [
      "\n",
      " A row is dropped by using df.drop method and axis=0 \n",
      "-----------------------------------------------------------------\n",
      "   Symbol  Price  New (Sum of X and Z)\n",
      "0     MMM    100                   300\n",
      "2     ABT    102                   306\n",
      "3    ABBV    103                   309\n",
      "4     ACN    104                   312\n",
      "5    ATVI    105                   315\n",
      "6     AYI    106                   318\n",
      "7    ADBE    107                   321\n",
      "8     AAP    108                   324\n",
      "9     AMD    109                   327\n",
      "10    AES    110                   330\n",
      "11    AET    111                   333\n",
      "12    AMG    112                   336\n",
      "13    AFL    113                   339\n",
      "14      A    114                   342\n",
      "15    APD    115                   345\n",
      "16   AKAM    116                   348\n",
      "17    ALK    117                   351\n",
      "18    ALB    118                   354\n",
      "19    ARE    119                   357\n",
      "20   ALXN    120                   360\n",
      "21   ALGN    121                   363\n",
      "22   ALLE    122                   366\n",
      "23    AGN    123                   369\n",
      "24    ADS    124                   372\n",
      "25    LNT    125                   375\n",
      "26    ALL    126                   378\n",
      "27  GOOGL    127                   381\n",
      "28   GOOG    128                   384\n",
      "29     MO    129                   387\n",
      "30   AMZN    130                   390\n",
      "31    AEE    131                   393\n",
      "32    AAL    132                   396\n",
      "33    AEP    133                   399\n",
      "34    AXP    134                   402\n",
      "35    AIG    135                   405\n",
      "36    AMT    136                   408\n",
      "37    AWK    137                   411\n",
      "38    AMP    138                   414\n",
      "39    ABC    139                   417\n",
      "40    AME    140                   420\n",
      "41   AMGN    141                   423\n",
      "42    APH    142                   426\n",
      "43    APC    143                   429\n",
      "44    ADI    144                   432\n",
      "45   ANDV    145                   435\n",
      "46   ANSS    146                   438\n",
      "47   ANTM    147                   441\n",
      "48    AON    148                   444\n"
     ]
    }
   ],
   "source": [
    "df1=df.drop(1)\n",
    "print(\"\\n A row is dropped by using df.drop method and axis=0 \\n\", \\\n",
    "    '-'*65, sep='')\n",
    "print(df1)"
   ]
  },
  {
   "cell_type": "code",
   "execution_count": 95,
   "metadata": {},
   "outputs": [
    {
     "name": "stdout",
     "output_type": "stream",
     "text": [
      "\n",
      " An in-place change can be dome by makinginplace= True in the drop method\n",
      "---------------------------------------------------------------------------\n",
      "   Symbol  Price\n",
      "0     MMM    100\n",
      "1     AOS    101\n",
      "2     ABT    102\n",
      "3    ABBV    103\n",
      "4     ACN    104\n",
      "5    ATVI    105\n",
      "6     AYI    106\n",
      "7    ADBE    107\n",
      "8     AAP    108\n",
      "9     AMD    109\n",
      "10    AES    110\n",
      "11    AET    111\n",
      "12    AMG    112\n",
      "13    AFL    113\n",
      "14      A    114\n",
      "15    APD    115\n",
      "16   AKAM    116\n",
      "17    ALK    117\n",
      "18    ALB    118\n",
      "19    ARE    119\n",
      "20   ALXN    120\n",
      "21   ALGN    121\n",
      "22   ALLE    122\n",
      "23    AGN    123\n",
      "24    ADS    124\n",
      "25    LNT    125\n",
      "26    ALL    126\n",
      "27  GOOGL    127\n",
      "28   GOOG    128\n",
      "29     MO    129\n",
      "30   AMZN    130\n",
      "31    AEE    131\n",
      "32    AAL    132\n",
      "33    AEP    133\n",
      "34    AXP    134\n",
      "35    AIG    135\n",
      "36    AMT    136\n",
      "37    AWK    137\n",
      "38    AMP    138\n",
      "39    ABC    139\n",
      "40    AME    140\n",
      "41   AMGN    141\n",
      "42    APH    142\n",
      "43    APC    143\n",
      "44    ADI    144\n",
      "45   ANDV    145\n",
      "46   ANSS    146\n",
      "47   ANTM    147\n",
      "48    AON    148\n"
     ]
    }
   ],
   "source": [
    "print(\"\\n An in-place change can be dome by making\", \\\n",
    "    \"inplace= True in the drop method\\n\", \\\n",
    "        '-'*75, sep='')\n",
    "df.drop('New (Sum of X and Z)', axis=1, inplace=True)\n",
    "print(df)"
   ]
  },
  {
   "cell_type": "code",
   "execution_count": 96,
   "metadata": {},
   "outputs": [
    {
     "data": {
      "text/plain": [
       "count     49.00000\n",
       "mean     124.00000\n",
       "std       14.28869\n",
       "min      100.00000\n",
       "25%      112.00000\n",
       "50%      124.00000\n",
       "75%      136.00000\n",
       "max      148.00000\n",
       "Name: Price, dtype: float64"
      ]
     },
     "execution_count": 96,
     "metadata": {},
     "output_type": "execute_result"
    }
   ],
   "source": [
    "df['Price'].describe()"
   ]
  },
  {
   "cell_type": "markdown",
   "metadata": {},
   "source": [
    "17. Chapter 3.17 Introduction to Matplotlib through a Scatter Plot"
   ]
  },
  {
   "cell_type": "code",
   "execution_count": 97,
   "metadata": {},
   "outputs": [],
   "source": [
    "people = ['Ann', 'Brandon', 'Chen', 'David', 'Emily', \\\n",
    "    'Farook', 'Gagan', 'Hamish', 'Imran', \\\n",
    "        'Joseph', 'Katherine', 'Lilly']\n",
    "age = [21, 12, 32, 45, 37, 18, 28, 52, 5, 40, 48, 15]\n",
    "weight = [55, 35, 77, 68, 70, 60, 72, 69, 18, 65, 82, 48]\n",
    "height = [160, 135, 170, 165, 173, 168, 175, 159, 105, 171, 155, 158] "
   ]
  },
  {
   "cell_type": "code",
   "execution_count": 98,
   "metadata": {},
   "outputs": [],
   "source": [
    "import matplotlib.pyplot as plt"
   ]
  },
  {
   "cell_type": "code",
   "execution_count": 99,
   "metadata": {},
   "outputs": [
    {
     "data": {
      "image/png": "[encoded data removed]",
      "text/plain": [
       "<Figure size 640x480 with 1 Axes>"
      ]
     },
     "metadata": {},
     "output_type": "display_data"
    }
   ],
   "source": [
    "plt.scatter(age, weight)\n",
    "plt.show()"
   ]
  },
  {
   "cell_type": "code",
   "execution_count": 100,
   "metadata": {},
   "outputs": [
    {
     "data": {
      "image/png": "[encoded data removed]",
      "text/plain": [
       "<Figure size 640x480 with 1 Axes>"
      ]
     },
     "metadata": {},
     "output_type": "display_data"
    }
   ],
   "source": [
    "plt.Figure(figsize=(8,6))\n",
    "plt.title(\"Plot of Ave vs. Weight (in kgs)\", fontsize=16)\n",
    "plt.xlabel(\"Age in Years\", fontsize=16)\n",
    "plt.ylabel(\"Weight (kgs)\", fontsize=16)\n",
    "plt.grid(True)\n",
    "plt.ylim(0, 100)\n",
    "plt.xticks([i*5 for i in range(12)], fontsize=15)\n",
    "plt.yticks(fontsize=15)\n",
    "plt.scatter(x = age, y = weight, c = 'orange', s=150, edgecolors = 'k' )\n",
    "#plt.(x = 20, ymin = 0, ymax = 80, linestyles = 'dashed', color = >blue>, lw = 3)\n",
    "#plt.legend([<Weigh in kgs>], loc=2, fontsize=12)\n",
    "plt.show()"
   ]
  },
  {
   "cell_type": "markdown",
   "metadata": {},
   "source": [
    "18. Chapter 3.18 Generating Random Number From a Uniform Distribution"
   ]
  },
  {
   "cell_type": "code",
   "execution_count": 101,
   "metadata": {},
   "outputs": [
    {
     "data": {
      "text/plain": [
       "5"
      ]
     },
     "execution_count": 101,
     "metadata": {},
     "output_type": "execute_result"
    }
   ],
   "source": [
    "x = np.random.randint(1,10)\n",
    "x"
   ]
  },
  {
   "cell_type": "code",
   "execution_count": 102,
   "metadata": {},
   "outputs": [
    {
     "data": {
      "text/plain": [
       "array([6], dtype=int32)"
      ]
     },
     "execution_count": 102,
     "metadata": {},
     "output_type": "execute_result"
    }
   ],
   "source": [
    "x_1 = np.random.randint(1,10, size = 1)\n",
    "x_1"
   ]
  },
  {
   "cell_type": "code",
   "execution_count": 103,
   "metadata": {},
   "outputs": [
    {
     "data": {
      "text/plain": [
       "array([77.71, 69.69, 97.72, 53.21, 56.95, 67.04, 79.8 , 76.81, 82.86,\n",
       "       87.51, 74.37, 71.71, 85.07, 99.48, 95.52])"
      ]
     },
     "execution_count": 103,
     "metadata": {},
     "output_type": "execute_result"
    }
   ],
   "source": [
    "x_2 = 50 + 50 * np.random.random(size = 15)\n",
    "x_2 = x_2.round(decimals=2)\n",
    "x_2"
   ]
  },
  {
   "cell_type": "code",
   "execution_count": 104,
   "metadata": {},
   "outputs": [
    {
     "data": {
      "text/plain": [
       "array([[0.74953157, 0.06361339, 0.51996147],\n",
       "       [0.00155225, 0.44396099, 0.50125386],\n",
       "       [0.24531291, 0.13686331, 0.6869084 ]])"
      ]
     },
     "execution_count": 104,
     "metadata": {},
     "output_type": "execute_result"
    }
   ],
   "source": [
    "x_3 = np.random.rand(3,3)\n",
    "x_3\n"
   ]
  },
  {
   "cell_type": "markdown",
   "metadata": {},
   "source": [
    "19. Chapter 3.19 Generating Random Numbers From a Binomial Distribution and Bar Plot"
   ]
  },
  {
   "cell_type": "code",
   "execution_count": 105,
   "metadata": {},
   "outputs": [
    {
     "data": {
      "text/plain": [
       "array([5, 8, 4, 3, 5, 5, 5, 6], dtype=int32)"
      ]
     },
     "execution_count": 105,
     "metadata": {},
     "output_type": "execute_result"
    }
   ],
   "source": [
    "x_4 = np.random.binomial(10, 0.6, size = 8)\n",
    "x_4"
   ]
  },
  {
   "cell_type": "markdown",
   "metadata": {},
   "source": [
    "20. Generating Random Numbers From a Normal Distribution and Histograms"
   ]
  },
  {
   "cell_type": "code",
   "execution_count": 106,
   "metadata": {},
   "outputs": [
    {
     "data": {
      "text/plain": [
       "-1.1922985403017525"
      ]
     },
     "execution_count": 106,
     "metadata": {},
     "output_type": "execute_result"
    }
   ],
   "source": [
    "x = np.random.normal()\n",
    "x"
   ]
  },
  {
   "cell_type": "code",
   "execution_count": 107,
   "metadata": {},
   "outputs": [],
   "source": [
    "heights = np.random.normal(loc= 155, scale = 10, size = 100)\n"
   ]
  },
  {
   "cell_type": "code",
   "execution_count": 108,
   "metadata": {},
   "outputs": [
    {
     "data": {
      "image/png": "[encoded data removed]",
      "text/plain": [
       "<Figure size 700x700 with 1 Axes>"
      ]
     },
     "metadata": {},
     "output_type": "display_data"
    }
   ],
   "source": [
    "plt.figure(figsize = (7,7))\n",
    "plt.hist(heights, color='orange', edgecolor = 'k')\n",
    "plt.title(\"Histogram of teenaged students' height\", fontsize = 18)\n",
    "plt.xlabel(\"Height in cm\", fontsize = 15)\n",
    "plt.xticks(fontsize = 15)\n",
    "plt.yticks(fontsize = 15)\n",
    "plt.show()"
   ]
  },
  {
   "cell_type": "markdown",
   "metadata": {},
   "source": [
    "12. Chapter 3.21 Calculating Descriptive Statistics from a Dataframe"
   ]
  },
  {
   "cell_type": "code",
   "execution_count": 109,
   "metadata": {},
   "outputs": [
    {
     "data": {
      "text/html": [
       "<div>\n",
       "<style scoped>\n",
       "    .dataframe tbody tr th:only-of-type {\n",
       "        vertical-align: middle;\n",
       "    }\n",
       "\n",
       "    .dataframe tbody tr th {\n",
       "        vertical-align: top;\n",
       "    }\n",
       "\n",
       "    .dataframe thead th {\n",
       "        text-align: right;\n",
       "    }\n",
       "</style>\n",
       "<table border=\"1\" class=\"dataframe\">\n",
       "  <thead>\n",
       "    <tr style=\"text-align: right;\">\n",
       "      <th></th>\n",
       "      <th>People</th>\n",
       "      <th>Age</th>\n",
       "      <th>Weight</th>\n",
       "      <th>Height</th>\n",
       "    </tr>\n",
       "  </thead>\n",
       "  <tbody>\n",
       "    <tr>\n",
       "      <th>0</th>\n",
       "      <td>Ann</td>\n",
       "      <td>21</td>\n",
       "      <td>55</td>\n",
       "      <td>160</td>\n",
       "    </tr>\n",
       "    <tr>\n",
       "      <th>1</th>\n",
       "      <td>Brandon</td>\n",
       "      <td>12</td>\n",
       "      <td>35</td>\n",
       "      <td>135</td>\n",
       "    </tr>\n",
       "    <tr>\n",
       "      <th>2</th>\n",
       "      <td>Chen</td>\n",
       "      <td>32</td>\n",
       "      <td>77</td>\n",
       "      <td>170</td>\n",
       "    </tr>\n",
       "    <tr>\n",
       "      <th>3</th>\n",
       "      <td>David</td>\n",
       "      <td>45</td>\n",
       "      <td>68</td>\n",
       "      <td>165</td>\n",
       "    </tr>\n",
       "    <tr>\n",
       "      <th>4</th>\n",
       "      <td>Emily</td>\n",
       "      <td>37</td>\n",
       "      <td>70</td>\n",
       "      <td>173</td>\n",
       "    </tr>\n",
       "    <tr>\n",
       "      <th>5</th>\n",
       "      <td>Farook</td>\n",
       "      <td>18</td>\n",
       "      <td>60</td>\n",
       "      <td>168</td>\n",
       "    </tr>\n",
       "    <tr>\n",
       "      <th>6</th>\n",
       "      <td>Gagan</td>\n",
       "      <td>28</td>\n",
       "      <td>72</td>\n",
       "      <td>175</td>\n",
       "    </tr>\n",
       "    <tr>\n",
       "      <th>7</th>\n",
       "      <td>Hamish</td>\n",
       "      <td>52</td>\n",
       "      <td>69</td>\n",
       "      <td>159</td>\n",
       "    </tr>\n",
       "    <tr>\n",
       "      <th>8</th>\n",
       "      <td>Imran</td>\n",
       "      <td>5</td>\n",
       "      <td>18</td>\n",
       "      <td>105</td>\n",
       "    </tr>\n",
       "    <tr>\n",
       "      <th>9</th>\n",
       "      <td>Joseph</td>\n",
       "      <td>40</td>\n",
       "      <td>65</td>\n",
       "      <td>171</td>\n",
       "    </tr>\n",
       "    <tr>\n",
       "      <th>10</th>\n",
       "      <td>Katherine</td>\n",
       "      <td>48</td>\n",
       "      <td>82</td>\n",
       "      <td>155</td>\n",
       "    </tr>\n",
       "    <tr>\n",
       "      <th>11</th>\n",
       "      <td>Lilly</td>\n",
       "      <td>15</td>\n",
       "      <td>48</td>\n",
       "      <td>158</td>\n",
       "    </tr>\n",
       "  </tbody>\n",
       "</table>\n",
       "</div>"
      ],
      "text/plain": [
       "       People  Age  Weight  Height\n",
       "0         Ann   21      55     160\n",
       "1     Brandon   12      35     135\n",
       "2        Chen   32      77     170\n",
       "3       David   45      68     165\n",
       "4       Emily   37      70     173\n",
       "5      Farook   18      60     168\n",
       "6       Gagan   28      72     175\n",
       "7      Hamish   52      69     159\n",
       "8       Imran    5      18     105\n",
       "9      Joseph   40      65     171\n",
       "10  Katherine   48      82     155\n",
       "11      Lilly   15      48     158"
      ]
     },
     "execution_count": 109,
     "metadata": {},
     "output_type": "execute_result"
    }
   ],
   "source": [
    "people_dict = {'People': people, 'Age': age, 'Weight': weight,\\\n",
    "    'Height': height}\n",
    "people_df = pd.DataFrame(data = people_dict)\n",
    "people_df"
   ]
  },
  {
   "cell_type": "code",
   "execution_count": 110,
   "metadata": {},
   "outputs": [
    {
     "data": {
      "text/plain": [
       "(12, 4)"
      ]
     },
     "execution_count": 110,
     "metadata": {},
     "output_type": "execute_result"
    }
   ],
   "source": [
    "people_df.shape"
   ]
  },
  {
   "cell_type": "code",
   "execution_count": 111,
   "metadata": {},
   "outputs": [
    {
     "name": "stdout",
     "output_type": "stream",
     "text": [
      "12\n"
     ]
    }
   ],
   "source": [
    "print(people_df['Age'].count())"
   ]
  },
  {
   "cell_type": "code",
   "execution_count": 112,
   "metadata": {},
   "outputs": [
    {
     "name": "stdout",
     "output_type": "stream",
     "text": [
      "353\n"
     ]
    }
   ],
   "source": [
    "print(people_df['Age'].sum())"
   ]
  },
  {
   "cell_type": "code",
   "execution_count": 113,
   "metadata": {},
   "outputs": [
    {
     "name": "stdout",
     "output_type": "stream",
     "text": [
      "29.416666666666668\n"
     ]
    }
   ],
   "source": [
    "print(people_df['Age'].mean())"
   ]
  },
  {
   "cell_type": "code",
   "execution_count": 114,
   "metadata": {},
   "outputs": [
    {
     "name": "stdout",
     "output_type": "stream",
     "text": [
      "66.5\n"
     ]
    }
   ],
   "source": [
    "print(people_df['Weight'].median())"
   ]
  },
  {
   "cell_type": "code",
   "execution_count": 115,
   "metadata": {},
   "outputs": [
    {
     "name": "stdout",
     "output_type": "stream",
     "text": [
      "175\n"
     ]
    }
   ],
   "source": [
    "print(people_df['Height'].max())"
   ]
  },
  {
   "cell_type": "code",
   "execution_count": 116,
   "metadata": {},
   "outputs": [
    {
     "name": "stdout",
     "output_type": "stream",
     "text": [
      "18.45120510148239\n"
     ]
    }
   ],
   "source": [
    "print(people_df['Weight'].std())"
   ]
  },
  {
   "cell_type": "code",
   "execution_count": 117,
   "metadata": {},
   "outputs": [
    {
     "data": {
      "text/html": [
       "<div>\n",
       "<style scoped>\n",
       "    .dataframe tbody tr th:only-of-type {\n",
       "        vertical-align: middle;\n",
       "    }\n",
       "\n",
       "    .dataframe tbody tr th {\n",
       "        vertical-align: top;\n",
       "    }\n",
       "\n",
       "    .dataframe thead th {\n",
       "        text-align: right;\n",
       "    }\n",
       "</style>\n",
       "<table border=\"1\" class=\"dataframe\">\n",
       "  <thead>\n",
       "    <tr style=\"text-align: right;\">\n",
       "      <th></th>\n",
       "      <th>Age</th>\n",
       "      <th>Weight</th>\n",
       "      <th>Height</th>\n",
       "    </tr>\n",
       "  </thead>\n",
       "  <tbody>\n",
       "    <tr>\n",
       "      <th>count</th>\n",
       "      <td>12.000000</td>\n",
       "      <td>12.000000</td>\n",
       "      <td>12.000000</td>\n",
       "    </tr>\n",
       "    <tr>\n",
       "      <th>mean</th>\n",
       "      <td>29.416667</td>\n",
       "      <td>59.916667</td>\n",
       "      <td>157.833333</td>\n",
       "    </tr>\n",
       "    <tr>\n",
       "      <th>std</th>\n",
       "      <td>15.329463</td>\n",
       "      <td>18.451205</td>\n",
       "      <td>19.834925</td>\n",
       "    </tr>\n",
       "    <tr>\n",
       "      <th>min</th>\n",
       "      <td>5.000000</td>\n",
       "      <td>18.000000</td>\n",
       "      <td>105.000000</td>\n",
       "    </tr>\n",
       "    <tr>\n",
       "      <th>25%</th>\n",
       "      <td>17.250000</td>\n",
       "      <td>53.250000</td>\n",
       "      <td>157.250000</td>\n",
       "    </tr>\n",
       "    <tr>\n",
       "      <th>50%</th>\n",
       "      <td>30.000000</td>\n",
       "      <td>66.500000</td>\n",
       "      <td>162.500000</td>\n",
       "    </tr>\n",
       "    <tr>\n",
       "      <th>75%</th>\n",
       "      <td>41.250000</td>\n",
       "      <td>70.500000</td>\n",
       "      <td>170.250000</td>\n",
       "    </tr>\n",
       "    <tr>\n",
       "      <th>max</th>\n",
       "      <td>52.000000</td>\n",
       "      <td>82.000000</td>\n",
       "      <td>175.000000</td>\n",
       "    </tr>\n",
       "  </tbody>\n",
       "</table>\n",
       "</div>"
      ],
      "text/plain": [
       "             Age     Weight      Height\n",
       "count  12.000000  12.000000   12.000000\n",
       "mean   29.416667  59.916667  157.833333\n",
       "std    15.329463  18.451205   19.834925\n",
       "min     5.000000  18.000000  105.000000\n",
       "25%    17.250000  53.250000  157.250000\n",
       "50%    30.000000  66.500000  162.500000\n",
       "75%    41.250000  70.500000  170.250000\n",
       "max    52.000000  82.000000  175.000000"
      ]
     },
     "execution_count": 117,
     "metadata": {},
     "output_type": "execute_result"
    }
   ],
   "source": [
    "people_df.describe()"
   ]
  },
  {
   "cell_type": "markdown",
   "metadata": {},
   "source": [
    "22. Chapter 3.22 Built-In Plotting Utilities"
   ]
  },
  {
   "cell_type": "code",
   "execution_count": 118,
   "metadata": {},
   "outputs": [
    {
     "data": {
      "image/png": "[encoded data removed]",
      "text/plain": [
       "<Figure size 640x480 with 1 Axes>"
      ]
     },
     "metadata": {},
     "output_type": "display_data"
    }
   ],
   "source": [
    "people_df['Weight'].hist()\n",
    "plt.show()"
   ]
  },
  {
   "cell_type": "code",
   "execution_count": 124,
   "metadata": {},
   "outputs": [
    {
     "data": {
      "image/png": "[encoded data removed]",
      "text/plain": [
       "<Figure size 640x480 with 1 Axes>"
      ]
     },
     "metadata": {},
     "output_type": "display_data"
    }
   ],
   "source": [
    "people_df.plot.scatter('Weight', 'Height', s=150,\\\n",
    "    c='orange', edgecolor='k')\n",
    "plt.grid(True)\n",
    "plt.title(\"Weight vs. Height scatter plot\", fontsize = 18 )\n",
    "plt.xlabel(\"Weight (in kg)\", fontsize= 15)\n",
    "plt.ylabel(\"Height (in cm)\", fontsize= 15)\n",
    "plt.show()"
   ]
  },
  {
   "cell_type": "code",
   "execution_count": null,
   "metadata": {},
   "outputs": [],
   "source": []
  },
  {
   "cell_type": "code",
   "execution_count": null,
   "metadata": {},
   "outputs": [],
   "source": []
  }
 ],
 "metadata": {
  "kernelspec": {
   "display_name": "data_prep",
   "language": "python",
   "name": "python3"
  },
  "language_info": {
   "codemirror_mode": {
    "name": "ipython",
    "version": 3
   },
   "file_extension": ".py",
   "mimetype": "text/x-python",
   "name": "python",
   "nbconvert_exporter": "python",
   "pygments_lexer": "ipython3",
   "version": "3.13.2"
  }
 },
 "nbformat": 4,
 "nbformat_minor": 2
}
