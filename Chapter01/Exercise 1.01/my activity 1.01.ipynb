{
 "cells": [
  {
   "cell_type": "code",
   "execution_count": 3,
   "metadata": {},
   "outputs": [],
   "source": [
    "import numpy as np \n",
    "import math \n",
    "import random"
   ]
  },
  {
   "cell_type": "code",
   "execution_count": 30,
   "metadata": {},
   "outputs": [],
   "source": [
    "list_1 = [random.randint(0,101) for x in range(1, 150)]"
   ]
  },
  {
   "cell_type": "code",
   "execution_count": 31,
   "metadata": {},
   "outputs": [
    {
     "data": {
      "text/plain": [
       "[78,\n",
       " 55,\n",
       " 33,\n",
       " 58,\n",
       " 101,\n",
       " 10,\n",
       " 65,\n",
       " 84,\n",
       " 37,\n",
       " 84,\n",
       " 7,\n",
       " 93,\n",
       " 67,\n",
       " 57,\n",
       " 84,\n",
       " 81,\n",
       " 37,\n",
       " 19,\n",
       " 34,\n",
       " 72,\n",
       " 37,\n",
       " 36,\n",
       " 70,\n",
       " 29,\n",
       " 96,\n",
       " 87,\n",
       " 48,\n",
       " 82,\n",
       " 37,\n",
       " 53,\n",
       " 74,\n",
       " 18,\n",
       " 68,\n",
       " 35,\n",
       " 7,\n",
       " 93,\n",
       " 60,\n",
       " 8,\n",
       " 28,\n",
       " 62,\n",
       " 93,\n",
       " 95,\n",
       " 77,\n",
       " 67,\n",
       " 23,\n",
       " 89,\n",
       " 68,\n",
       " 78,\n",
       " 6,\n",
       " 20,\n",
       " 60,\n",
       " 49,\n",
       " 78,\n",
       " 62,\n",
       " 0,\n",
       " 79,\n",
       " 54,\n",
       " 7,\n",
       " 62,\n",
       " 4,\n",
       " 63,\n",
       " 42,\n",
       " 57,\n",
       " 4,\n",
       " 67,\n",
       " 15,\n",
       " 34,\n",
       " 15,\n",
       " 49,\n",
       " 9,\n",
       " 72,\n",
       " 86,\n",
       " 96,\n",
       " 81,\n",
       " 54,\n",
       " 39,\n",
       " 1,\n",
       " 7,\n",
       " 101,\n",
       " 98,\n",
       " 8,\n",
       " 94,\n",
       " 81,\n",
       " 9,\n",
       " 67,\n",
       " 64,\n",
       " 27,\n",
       " 19,\n",
       " 100,\n",
       " 41,\n",
       " 18,\n",
       " 100,\n",
       " 95,\n",
       " 85,\n",
       " 37,\n",
       " 24,\n",
       " 68,\n",
       " 93,\n",
       " 85,\n",
       " 22,\n",
       " 69,\n",
       " 90,\n",
       " 83,\n",
       " 7,\n",
       " 14,\n",
       " 34,\n",
       " 41,\n",
       " 26,\n",
       " 73,\n",
       " 11,\n",
       " 79,\n",
       " 36,\n",
       " 12,\n",
       " 85,\n",
       " 8,\n",
       " 58,\n",
       " 12,\n",
       " 95,\n",
       " 34,\n",
       " 3,\n",
       " 87,\n",
       " 0,\n",
       " 40,\n",
       " 67,\n",
       " 24,\n",
       " 76,\n",
       " 40,\n",
       " 64,\n",
       " 65,\n",
       " 101,\n",
       " 32,\n",
       " 9,\n",
       " 88,\n",
       " 61,\n",
       " 60,\n",
       " 69,\n",
       " 0,\n",
       " 48,\n",
       " 5,\n",
       " 52,\n",
       " 53,\n",
       " 25,\n",
       " 16,\n",
       " 63,\n",
       " 94,\n",
       " 17,\n",
       " 92,\n",
       " 99,\n",
       " 19]"
      ]
     },
     "execution_count": 31,
     "metadata": {},
     "output_type": "execute_result"
    }
   ],
   "source": [
    "list_1"
   ]
  },
  {
   "cell_type": "code",
   "execution_count": 34,
   "metadata": {},
   "outputs": [],
   "source": [
    "list_2 = [x for x in list_1 if x % 3==0]"
   ]
  },
  {
   "cell_type": "code",
   "execution_count": 35,
   "metadata": {},
   "outputs": [
    {
     "data": {
      "text/plain": [
       "[78,\n",
       " 33,\n",
       " 84,\n",
       " 84,\n",
       " 93,\n",
       " 57,\n",
       " 84,\n",
       " 81,\n",
       " 72,\n",
       " 36,\n",
       " 96,\n",
       " 87,\n",
       " 48,\n",
       " 18,\n",
       " 93,\n",
       " 60,\n",
       " 93,\n",
       " 78,\n",
       " 6,\n",
       " 60,\n",
       " 78,\n",
       " 0,\n",
       " 54,\n",
       " 63,\n",
       " 42,\n",
       " 57,\n",
       " 15,\n",
       " 15,\n",
       " 9,\n",
       " 72,\n",
       " 96,\n",
       " 81,\n",
       " 54,\n",
       " 39,\n",
       " 81,\n",
       " 9,\n",
       " 27,\n",
       " 18,\n",
       " 24,\n",
       " 93,\n",
       " 69,\n",
       " 90,\n",
       " 36,\n",
       " 12,\n",
       " 12,\n",
       " 3,\n",
       " 87,\n",
       " 0,\n",
       " 24,\n",
       " 9,\n",
       " 60,\n",
       " 69,\n",
       " 0,\n",
       " 48,\n",
       " 63,\n",
       " 99]"
      ]
     },
     "execution_count": 35,
     "metadata": {},
     "output_type": "execute_result"
    }
   ],
   "source": [
    "list_2"
   ]
  },
  {
   "cell_type": "code",
   "execution_count": 36,
   "metadata": {},
   "outputs": [
    {
     "data": {
      "text/plain": [
       "93"
      ]
     },
     "execution_count": 36,
     "metadata": {},
     "output_type": "execute_result"
    }
   ],
   "source": [
    "len_of_list_1 = len(list_1)\n",
    "len_of_list_2 = len(list_2)\n",
    "diff_of_lists = len_of_list_1-len_of_list_2\n",
    "diff_of_lists"
   ]
  },
  {
   "cell_type": "code",
   "execution_count": 37,
   "metadata": {},
   "outputs": [
    {
     "data": {
      "text/plain": [
       "[92, 90, 80, 104, 104, 100, 99, 101, 106, 101]"
      ]
     },
     "execution_count": 37,
     "metadata": {},
     "output_type": "execute_result"
    }
   ],
   "source": [
    "num_of_exp= 10\n",
    "list_3 = []\n",
    "for i in range(0, num_of_exp):\n",
    "    list_1 = [random.randint(0,101) for x in range(1, 150)]\n",
    "    list_2 = [x for x in list_1 if x % 3==0]\n",
    "    len_of_list_1 = len(list_1)\n",
    "    len_of_list_2 = len(list_2)\n",
    "    diff_of_lists = len_of_list_1-len_of_list_2\n",
    "    list_3.append(diff_of_lists)\n",
    "list_3"
   ]
  },
  {
   "cell_type": "code",
   "execution_count": 38,
   "metadata": {},
   "outputs": [
    {
     "data": {
      "text/plain": [
       "97.7"
      ]
     },
     "execution_count": 38,
     "metadata": {},
     "output_type": "execute_result"
    }
   ],
   "source": [
    "ave_list = sum(list_3)/ float(len(list_3))\n",
    "ave_list"
   ]
  }
 ],
 "metadata": {
  "kernelspec": {
   "display_name": "data_prep",
   "language": "python",
   "name": "python3"
  },
  "language_info": {
   "codemirror_mode": {
    "name": "ipython",
    "version": 3
   },
   "file_extension": ".py",
   "mimetype": "text/x-python",
   "name": "python",
   "nbconvert_exporter": "python",
   "pygments_lexer": "ipython3",
   "version": "3.13.2"
  }
 },
 "nbformat": 4,
 "nbformat_minor": 2
}
